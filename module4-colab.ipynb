{
  "cells": [
    {
      "cell_type": "code",
      "execution_count": 22,
      "id": "cb59704b",
      "metadata": {
        "id": "cb59704b"
      },
      "outputs": [],
      "source": [
        "import torch\n",
        "import random\n",
        "import numpy as np\n",
        "import matplotlib.pyplot as plt\n",
        "import torchvision.datasets"
      ]
    },
    {
      "cell_type": "code",
      "execution_count": 3,
      "id": "645aa521",
      "metadata": {
        "id": "645aa521"
      },
      "outputs": [],
      "source": [
        "def cuda_settings():\n",
        "    random.seed(0)\n",
        "    np.random.seed(0)\n",
        "    torch.manual_seed(0)\n",
        "    torch.cuda.manual_seed(0)\n",
        "    torch.backends.cudnn.deterministic = True"
      ]
    },
    {
      "cell_type": "code",
      "execution_count": null,
      "id": "160c9eac",
      "metadata": {
        "id": "160c9eac"
      },
      "outputs": [],
      "source": []
    },
    {
      "cell_type": "code",
      "execution_count": 4,
      "id": "f0bfb207",
      "metadata": {
        "scrolled": true,
        "colab": {
          "base_uri": "https://localhost:8080/",
          "height": 423,
          "referenced_widgets": [
            "ad961d227ea74e06b3c14a409ed29e0d",
            "aa887a5c980a4d8c8155cf443ddce2c4",
            "78ea15f74aa94cf9bb7f43c4e43189e0",
            "6719ce1a16db41faa4048215d398c624",
            "b1bed4f998034e19bbde5fd1cdf307b8",
            "2321c461ec3d449586d5b02e45495fef",
            "281cb9c397a74ad9813d9c27e61d295d",
            "11ba327728034a10bffceaa26fd9a7da",
            "23d56317b1f246aebe4d05873740e963",
            "83aecd47d53e4d969bef670cc6bf75d8",
            "8e1b3e835ca24fb28677e454ea8aa7f9",
            "c721caa307554abda3e0eb64c7e00b4c",
            "2bb0620afbca48a48d39bc54e3922734",
            "7ffd3608dda4463baa9df33747252a5f",
            "7acadd667b0c45b5aa41828873ae080a",
            "07e731b131124b54b721f959da2d4584",
            "69613cc4ee9648efadb48827ad9d96fa",
            "5077ca87674a4f3fbe983ce014f5f51d",
            "d0f8ed81440d4470b87f44c03ccad180",
            "5b29e49ea433461bbe6a59a8fbcb66ad",
            "4d9c0675011e4662bf698ec8e989290c",
            "2e7f50d6e4ad451b8035f99f392d1de3",
            "8df8e13088ac47af85b067381961096d",
            "bac1eac8ac764cdd85fe5dfca382632e",
            "68d7333e62794ca788cfdee3837ee7fc",
            "54ffda63e6114cd68001cff54efcad84",
            "6fd317834ee349f087405ffa1668baa1",
            "d46cdf3dde5c4dab8257edda5814a176",
            "e4812daae6c14861b9ca4635f0c208a2",
            "6cd306531fe74718ad4abe345a327db6",
            "50c7cacfcd58414a84198c27c185f278",
            "93c0adc8c6d34b9db52297968218819e",
            "1ecb8a9e794d46f3ba8c0cfd943b0ea5",
            "e0d5c0c7214e4f67937e0f8fc2d7355f",
            "f90f42cab85b4849bfcc52f3027c8cd1",
            "7b2523938ab34c5ca144fedd30d46a25",
            "4f95970342b342acbf1d23c9fc070883",
            "ae3316db6ff947d1b174d563beda02d1",
            "52ed13705ea14acabc3eb00c34588b36",
            "a717a45d5feb4403ad4d574f3b6cd226",
            "c3a044139e434f00991154bd3cb04eb2",
            "94c2a38d3ef34050b0b0a88e75b1f884",
            "d4ee04982bcf4505881d8300ec9c2e94",
            "96e862438c6c4262aba6a7c5291ff416"
          ]
        },
        "id": "f0bfb207",
        "outputId": "50b40951-5c8f-46be-f818-9c2f69e79918"
      },
      "outputs": [
        {
          "output_type": "stream",
          "name": "stdout",
          "text": [
            "Downloading http://yann.lecun.com/exdb/mnist/train-images-idx3-ubyte.gz\n",
            "Downloading http://yann.lecun.com/exdb/mnist/train-images-idx3-ubyte.gz to ./MNIST/raw/train-images-idx3-ubyte.gz\n"
          ]
        },
        {
          "output_type": "display_data",
          "data": {
            "text/plain": [
              "  0%|          | 0/9912422 [00:00<?, ?it/s]"
            ],
            "application/vnd.jupyter.widget-view+json": {
              "version_major": 2,
              "version_minor": 0,
              "model_id": "ad961d227ea74e06b3c14a409ed29e0d"
            }
          },
          "metadata": {}
        },
        {
          "output_type": "stream",
          "name": "stdout",
          "text": [
            "Extracting ./MNIST/raw/train-images-idx3-ubyte.gz to ./MNIST/raw\n",
            "\n",
            "Downloading http://yann.lecun.com/exdb/mnist/train-labels-idx1-ubyte.gz\n",
            "Downloading http://yann.lecun.com/exdb/mnist/train-labels-idx1-ubyte.gz to ./MNIST/raw/train-labels-idx1-ubyte.gz\n"
          ]
        },
        {
          "output_type": "display_data",
          "data": {
            "text/plain": [
              "  0%|          | 0/28881 [00:00<?, ?it/s]"
            ],
            "application/vnd.jupyter.widget-view+json": {
              "version_major": 2,
              "version_minor": 0,
              "model_id": "c721caa307554abda3e0eb64c7e00b4c"
            }
          },
          "metadata": {}
        },
        {
          "output_type": "stream",
          "name": "stdout",
          "text": [
            "Extracting ./MNIST/raw/train-labels-idx1-ubyte.gz to ./MNIST/raw\n",
            "\n",
            "Downloading http://yann.lecun.com/exdb/mnist/t10k-images-idx3-ubyte.gz\n",
            "Downloading http://yann.lecun.com/exdb/mnist/t10k-images-idx3-ubyte.gz to ./MNIST/raw/t10k-images-idx3-ubyte.gz\n"
          ]
        },
        {
          "output_type": "display_data",
          "data": {
            "text/plain": [
              "  0%|          | 0/1648877 [00:00<?, ?it/s]"
            ],
            "application/vnd.jupyter.widget-view+json": {
              "version_major": 2,
              "version_minor": 0,
              "model_id": "8df8e13088ac47af85b067381961096d"
            }
          },
          "metadata": {}
        },
        {
          "output_type": "stream",
          "name": "stdout",
          "text": [
            "Extracting ./MNIST/raw/t10k-images-idx3-ubyte.gz to ./MNIST/raw\n",
            "\n",
            "Downloading http://yann.lecun.com/exdb/mnist/t10k-labels-idx1-ubyte.gz\n",
            "Downloading http://yann.lecun.com/exdb/mnist/t10k-labels-idx1-ubyte.gz to ./MNIST/raw/t10k-labels-idx1-ubyte.gz\n"
          ]
        },
        {
          "output_type": "display_data",
          "data": {
            "text/plain": [
              "  0%|          | 0/4542 [00:00<?, ?it/s]"
            ],
            "application/vnd.jupyter.widget-view+json": {
              "version_major": 2,
              "version_minor": 0,
              "model_id": "e0d5c0c7214e4f67937e0f8fc2d7355f"
            }
          },
          "metadata": {}
        },
        {
          "output_type": "stream",
          "name": "stdout",
          "text": [
            "Extracting ./MNIST/raw/t10k-labels-idx1-ubyte.gz to ./MNIST/raw\n",
            "\n"
          ]
        }
      ],
      "source": [
        "MNIST_train = torchvision.datasets.MNIST('./', download=True, train=True)\n",
        "MNIST_test = torchvision.datasets.MNIST('./', download=True, train=False)"
      ]
    },
    {
      "cell_type": "code",
      "execution_count": 5,
      "id": "f8ebdd24",
      "metadata": {
        "colab": {
          "base_uri": "https://localhost:8080/"
        },
        "id": "f8ebdd24",
        "outputId": "ae715fa2-2d06-4ee6-8374-f38a162c078c"
      },
      "outputs": [
        {
          "output_type": "stream",
          "name": "stderr",
          "text": [
            "/usr/local/lib/python3.8/dist-packages/torchvision/datasets/mnist.py:75: UserWarning: train_data has been renamed data\n",
            "  warnings.warn(\"train_data has been renamed data\")\n",
            "/usr/local/lib/python3.8/dist-packages/torchvision/datasets/mnist.py:65: UserWarning: train_labels has been renamed targets\n",
            "  warnings.warn(\"train_labels has been renamed targets\")\n",
            "/usr/local/lib/python3.8/dist-packages/torchvision/datasets/mnist.py:80: UserWarning: test_data has been renamed data\n",
            "  warnings.warn(\"test_data has been renamed data\")\n",
            "/usr/local/lib/python3.8/dist-packages/torchvision/datasets/mnist.py:70: UserWarning: test_labels has been renamed targets\n",
            "  warnings.warn(\"test_labels has been renamed targets\")\n"
          ]
        }
      ],
      "source": [
        "X_train = MNIST_train.train_data\n",
        "y_train = MNIST_train.train_labels\n",
        "X_test = MNIST_test.test_data\n",
        "y_test = MNIST_test.test_labels"
      ]
    },
    {
      "cell_type": "code",
      "execution_count": 5,
      "id": "3a92e2c3",
      "metadata": {
        "colab": {
          "base_uri": "https://localhost:8080/"
        },
        "id": "3a92e2c3",
        "outputId": "7dc8624a-3d6a-40f1-c357-33c8e598bbb2"
      },
      "outputs": [
        {
          "output_type": "execute_result",
          "data": {
            "text/plain": [
              "(torch.uint8, torch.int64)"
            ]
          },
          "metadata": {},
          "execution_count": 5
        }
      ],
      "source": [
        "X_train.dtype, y_train.dtype"
      ]
    },
    {
      "cell_type": "code",
      "execution_count": 6,
      "id": "ce157323",
      "metadata": {
        "id": "ce157323"
      },
      "outputs": [],
      "source": [
        "X_train = X_train.float()\n",
        "X_test = X_test.float()"
      ]
    },
    {
      "cell_type": "code",
      "execution_count": null,
      "id": "fd797b9b",
      "metadata": {
        "id": "fd797b9b",
        "outputId": "c62b26aa-0b3f-4150-e6c7-56a87200cb09"
      },
      "outputs": [
        {
          "data": {
            "text/plain": [
              "(torch.Size([60000, 28, 28]), torch.Size([10000, 28, 28]))"
            ]
          },
          "execution_count": 10,
          "metadata": {},
          "output_type": "execute_result"
        }
      ],
      "source": [
        "X_train.shape, X_test.shape"
      ]
    },
    {
      "cell_type": "code",
      "execution_count": null,
      "id": "0284ec63",
      "metadata": {
        "id": "0284ec63",
        "outputId": "8e9af765-ee2d-4134-f8dc-d8dad531ace1"
      },
      "outputs": [
        {
          "data": {
            "text/plain": [
              "(torch.Size([60000]), torch.Size([10000]))"
            ]
          },
          "execution_count": 11,
          "metadata": {},
          "output_type": "execute_result"
        }
      ],
      "source": [
        "y_train.shape, y_test.shape"
      ]
    },
    {
      "cell_type": "code",
      "execution_count": null,
      "id": "5b93414a",
      "metadata": {
        "id": "5b93414a"
      },
      "outputs": [],
      "source": []
    },
    {
      "cell_type": "code",
      "execution_count": null,
      "id": "f7edf2d5",
      "metadata": {
        "id": "f7edf2d5",
        "outputId": "7cd1de0b-b3d0-453f-fd7f-0534ecd2be08"
      },
      "outputs": [
        {
          "data": {
            "image/png": "[encoded data removed]",
            "text/plain": [
              "<Figure size 432x288 with 1 Axes>"
            ]
          },
          "metadata": {
            "needs_background": "light"
          },
          "output_type": "display_data"
        },
        {
          "name": "stdout",
          "output_type": "stream",
          "text": [
            "tensor(5)\n"
          ]
        }
      ],
      "source": [
        "import matplotlib.pyplot as plt\n",
        "plt.imshow(X_train[0, :, :])\n",
        "plt.show()\n",
        "print(y_train[0])"
      ]
    },
    {
      "cell_type": "code",
      "execution_count": null,
      "id": "a09319be",
      "metadata": {
        "id": "a09319be"
      },
      "outputs": [],
      "source": []
    },
    {
      "cell_type": "code",
      "execution_count": null,
      "id": "2db3b45f",
      "metadata": {
        "id": "2db3b45f"
      },
      "outputs": [],
      "source": [
        "# преобразуем двумерный тензор\n",
        "# 'вытягиваем' в длину"
      ]
    },
    {
      "cell_type": "code",
      "execution_count": 7,
      "id": "5f070d92",
      "metadata": {
        "id": "5f070d92"
      },
      "outputs": [],
      "source": [
        "X_train = X_train.reshape([-1, 28 * 28])\n",
        "X_test = X_test.reshape([-1, 28 * 28])"
      ]
    },
    {
      "cell_type": "code",
      "execution_count": null,
      "id": "cb7fab29",
      "metadata": {
        "id": "cb7fab29",
        "outputId": "5579718f-c6b1-43d6-de9e-4ab6a366ff77"
      },
      "outputs": [
        {
          "data": {
            "text/plain": [
              "tensor([[0., 0., 0.,  ..., 0., 0., 0.],\n",
              "        [0., 0., 0.,  ..., 0., 0., 0.],\n",
              "        [0., 0., 0.,  ..., 0., 0., 0.],\n",
              "        ...,\n",
              "        [0., 0., 0.,  ..., 0., 0., 0.],\n",
              "        [0., 0., 0.,  ..., 0., 0., 0.],\n",
              "        [0., 0., 0.,  ..., 0., 0., 0.]])"
            ]
          },
          "execution_count": 15,
          "metadata": {},
          "output_type": "execute_result"
        }
      ],
      "source": [
        "X_train"
      ]
    },
    {
      "cell_type": "code",
      "execution_count": null,
      "id": "9d0e4e7d",
      "metadata": {
        "id": "9d0e4e7d",
        "outputId": "8f2d6ffb-c87e-45c9-e118-9a6509333daa"
      },
      "outputs": [
        {
          "data": {
            "text/plain": [
              "torch.Size([60000, 784])"
            ]
          },
          "execution_count": 16,
          "metadata": {},
          "output_type": "execute_result"
        }
      ],
      "source": [
        "X_train.shape"
      ]
    },
    {
      "cell_type": "code",
      "execution_count": null,
      "id": "faae7b8c",
      "metadata": {
        "id": "faae7b8c"
      },
      "outputs": [],
      "source": []
    },
    {
      "cell_type": "code",
      "execution_count": 29,
      "id": "a534aa3e",
      "metadata": {
        "id": "a534aa3e"
      },
      "outputs": [],
      "source": [
        "class MNISTNet(torch.nn.Module):\n",
        "    def __init__(self, n_hidden_neurons):\n",
        "        super(MNISTNet, self).__init__()\n",
        "        self.fc1 = torch.nn.Linear(28 * 28, n_hidden_neurons)\n",
        "        self.ac1 = torch.nn.Sigmoid()\n",
        "        self.fc2 = torch.nn.Linear(n_hidden_neurons, 10) \n",
        "    \n",
        "    def forward(self, x):\n",
        "        x = self.fc1(x)\n",
        "        x = self.ac1(x)\n",
        "        x = self.fc2(x)\n",
        "        return x\n",
        "    \n",
        "mnist_net = MNISTNet(100)"
      ]
    },
    {
      "cell_type": "code",
      "execution_count": null,
      "id": "71b23965",
      "metadata": {
        "id": "71b23965"
      },
      "outputs": [],
      "source": []
    },
    {
      "cell_type": "code",
      "execution_count": 9,
      "id": "af5d1a14",
      "metadata": {
        "colab": {
          "base_uri": "https://localhost:8080/"
        },
        "id": "af5d1a14",
        "outputId": "4f46d53f-4836-49de-e940-638aa08b3eac"
      },
      "outputs": [
        {
          "output_type": "execute_result",
          "data": {
            "text/plain": [
              "True"
            ]
          },
          "metadata": {},
          "execution_count": 9
        }
      ],
      "source": [
        "torch.cuda.is_available()"
      ]
    },
    {
      "cell_type": "code",
      "execution_count": 10,
      "id": "3a65a106",
      "metadata": {
        "colab": {
          "base_uri": "https://localhost:8080/"
        },
        "id": "3a65a106",
        "outputId": "9cac6233-5233-4223-beb8-37164f1aeb9e"
      },
      "outputs": [
        {
          "output_type": "stream",
          "name": "stdout",
          "text": [
            "Sun Feb 26 20:01:34 2023       \n",
            "+-----------------------------------------------------------------------------+\n",
            "| NVIDIA-SMI 525.85.12    Driver Version: 525.85.12    CUDA Version: 12.0     |\n",
            "|-------------------------------+----------------------+----------------------+\n",
            "| GPU  Name        Persistence-M| Bus-Id        Disp.A | Volatile Uncorr. ECC |\n",
            "| Fan  Temp  Perf  Pwr:Usage/Cap|         Memory-Usage | GPU-Util  Compute M. |\n",
            "|                               |                      |               MIG M. |\n",
            "|===============================+======================+======================|\n",
            "|   0  Tesla T4            Off  | 00000000:00:04.0 Off |                    0 |\n",
            "| N/A   39C    P8     9W /  70W |      3MiB / 15360MiB |      0%      Default |\n",
            "|                               |                      |                  N/A |\n",
            "+-------------------------------+----------------------+----------------------+\n",
            "                                                                               \n",
            "+-----------------------------------------------------------------------------+\n",
            "| Processes:                                                                  |\n",
            "|  GPU   GI   CI        PID   Type   Process name                  GPU Memory |\n",
            "|        ID   ID                                                   Usage      |\n",
            "|=============================================================================|\n",
            "|  No running processes found                                                 |\n",
            "+-----------------------------------------------------------------------------+\n"
          ]
        }
      ],
      "source": [
        "# проверяем, не занята ли видеокарта некоторыми вычислениями\n",
        "!nvidia-smi"
      ]
    },
    {
      "cell_type": "code",
      "execution_count": 30,
      "id": "02990fba",
      "metadata": {
        "colab": {
          "base_uri": "https://localhost:8080/"
        },
        "id": "02990fba",
        "outputId": "2d3adc67-9b42-4469-ef3d-f9d09f7480c2"
      },
      "outputs": [
        {
          "output_type": "execute_result",
          "data": {
            "text/plain": [
              "[Parameter containing:\n",
              " tensor([[ 0.0028,  0.0152, -0.0182,  ..., -0.0166, -0.0154,  0.0159],\n",
              "         [ 0.0259, -0.0169,  0.0232,  ..., -0.0193,  0.0147, -0.0068],\n",
              "         [-0.0165,  0.0005, -0.0349,  ..., -0.0230,  0.0045, -0.0125],\n",
              "         ...,\n",
              "         [ 0.0004,  0.0083, -0.0008,  ...,  0.0009, -0.0134,  0.0261],\n",
              "         [-0.0338,  0.0005,  0.0327,  ..., -0.0147,  0.0091,  0.0130],\n",
              "         [ 0.0083, -0.0011, -0.0174,  ...,  0.0124,  0.0075, -0.0185]],\n",
              "        device='cuda:0', requires_grad=True), Parameter containing:\n",
              " tensor([-0.0103, -0.0090,  0.0116, -0.0313, -0.0075, -0.0208, -0.0064, -0.0208,\n",
              "          0.0078, -0.0345, -0.0181, -0.0225, -0.0324, -0.0321, -0.0017,  0.0214,\n",
              "          0.0010,  0.0114, -0.0093, -0.0167,  0.0100,  0.0181, -0.0061,  0.0263,\n",
              "         -0.0147, -0.0356,  0.0125, -0.0136, -0.0112, -0.0081,  0.0044,  0.0161,\n",
              "         -0.0317,  0.0069,  0.0036,  0.0027,  0.0233, -0.0255, -0.0252, -0.0026,\n",
              "          0.0157,  0.0293, -0.0134, -0.0047,  0.0044,  0.0034,  0.0071,  0.0058,\n",
              "          0.0129,  0.0125,  0.0058,  0.0093,  0.0160,  0.0321, -0.0311, -0.0273,\n",
              "          0.0337,  0.0346,  0.0024, -0.0215, -0.0169,  0.0166, -0.0213, -0.0190,\n",
              "          0.0303, -0.0032,  0.0073,  0.0002, -0.0313, -0.0040, -0.0189, -0.0156,\n",
              "         -0.0121,  0.0310, -0.0212,  0.0347, -0.0010,  0.0095, -0.0258, -0.0054,\n",
              "          0.0233, -0.0268,  0.0342, -0.0355, -0.0267,  0.0306,  0.0099, -0.0179,\n",
              "          0.0026,  0.0128,  0.0028, -0.0283, -0.0163,  0.0331,  0.0105,  0.0208,\n",
              "         -0.0161, -0.0332,  0.0356,  0.0105], device='cuda:0',\n",
              "        requires_grad=True), Parameter containing:\n",
              " tensor([[-7.9366e-02, -8.4265e-03,  4.2649e-03, -6.8257e-02, -7.7806e-02,\n",
              "          -1.3089e-02, -5.5783e-02, -2.0661e-02,  6.2486e-02, -9.5690e-02,\n",
              "           7.1787e-02, -4.9620e-02,  9.8166e-02,  6.7598e-02, -5.4786e-02,\n",
              "          -1.7254e-02, -8.3121e-02,  8.7763e-02,  1.1156e-03,  7.6500e-02,\n",
              "          -5.6512e-02, -2.0437e-02, -8.2025e-02, -1.7343e-02, -3.4946e-02,\n",
              "          -6.2552e-02, -2.2575e-02,  4.7102e-02,  2.2056e-02,  6.3969e-02,\n",
              "           1.6128e-02,  2.2348e-02,  9.7426e-02,  8.1561e-02, -8.8023e-02,\n",
              "          -6.8027e-02, -1.9806e-02, -2.9527e-02,  3.3920e-02, -5.0924e-02,\n",
              "          -2.4686e-02,  5.3844e-02,  1.6246e-02,  1.0243e-02, -1.3055e-02,\n",
              "          -7.0043e-02,  3.4492e-02, -9.7250e-02,  1.9012e-02,  2.0078e-02,\n",
              "           8.0580e-02, -4.1198e-02,  6.0931e-02, -5.2769e-03, -4.3544e-02,\n",
              "          -4.2333e-02, -6.8755e-02,  4.5963e-02, -1.1410e-02,  4.9777e-02,\n",
              "           6.9657e-02, -7.4772e-02,  8.2038e-02,  7.0600e-02,  9.9034e-02,\n",
              "          -1.3971e-02,  1.6135e-02, -3.5275e-02,  7.0594e-02,  7.8422e-02,\n",
              "          -4.4945e-02, -3.9476e-03, -6.5933e-02, -8.3877e-02, -5.2192e-02,\n",
              "          -9.0753e-02,  4.9926e-02,  4.9599e-03, -4.1756e-02, -7.3503e-02,\n",
              "           4.8929e-02, -4.7994e-02,  1.6023e-02,  2.8215e-03, -5.1230e-02,\n",
              "           3.1851e-02, -6.9800e-02, -8.9747e-02, -8.6475e-02,  3.6942e-02,\n",
              "          -1.5251e-02, -4.8047e-02, -4.8490e-02, -2.5144e-02, -7.6661e-02,\n",
              "           9.8837e-02, -9.0986e-02, -2.7854e-02,  7.1661e-02,  5.2383e-02],\n",
              "         [-4.9753e-02,  8.1876e-02,  2.3384e-02,  5.6749e-02,  6.3464e-02,\n",
              "           2.7997e-02,  2.5322e-02, -9.7955e-02, -3.9938e-02,  4.8877e-02,\n",
              "           5.1756e-02, -1.3144e-02, -8.2090e-02,  8.6277e-02, -6.8281e-02,\n",
              "           8.0314e-02, -4.0222e-02, -3.4113e-02, -3.5931e-02,  4.7492e-02,\n",
              "           5.5653e-02, -9.6215e-03,  1.2033e-02,  5.9931e-03,  9.9104e-02,\n",
              "           4.5908e-02,  2.0309e-02,  5.2871e-02,  4.8129e-02, -4.7593e-02,\n",
              "           2.5938e-02,  2.2815e-03,  7.7041e-02, -2.6651e-02, -5.8426e-02,\n",
              "          -9.4931e-02, -1.1317e-02,  1.4158e-02,  4.6332e-02,  7.7713e-02,\n",
              "          -3.1744e-02,  6.6994e-03,  7.7445e-02, -7.9866e-02, -4.0899e-02,\n",
              "          -7.4291e-02, -1.6912e-03,  5.1967e-02,  6.6868e-02, -5.3964e-02,\n",
              "          -1.2956e-02,  6.3529e-02,  7.6279e-02, -6.1510e-02, -4.8588e-02,\n",
              "           3.5872e-02, -3.5494e-02,  8.3521e-02,  9.7754e-02,  8.4328e-02,\n",
              "           2.4497e-02,  1.8528e-02,  6.0874e-02, -1.5711e-02, -9.4485e-02,\n",
              "          -3.9257e-02, -6.3065e-03, -6.5091e-02, -7.2091e-02, -9.6741e-02,\n",
              "           3.5261e-02, -8.9504e-02,  7.2171e-02,  7.2492e-02,  8.8608e-02,\n",
              "           9.3769e-02,  8.2493e-02,  3.0270e-02,  6.1165e-02, -4.5205e-02,\n",
              "          -4.2268e-02, -7.5623e-02, -4.7645e-02,  5.8226e-02, -7.2943e-02,\n",
              "           9.4704e-02, -8.3305e-02, -5.0753e-02, -9.3554e-02, -9.4840e-02,\n",
              "          -1.6347e-03,  1.7510e-03, -5.5076e-02,  9.3226e-02,  4.7087e-03,\n",
              "          -4.7902e-02, -4.3153e-02,  4.5558e-02,  5.1413e-02, -8.4272e-02],\n",
              "         [ 2.1087e-02, -9.7574e-02, -3.1934e-02,  9.2601e-02, -3.4837e-02,\n",
              "           9.7263e-02, -7.2989e-02,  2.0487e-02,  3.5742e-02, -3.0430e-02,\n",
              "          -7.4721e-02,  1.0518e-03,  6.9161e-02,  9.8432e-02, -7.1901e-02,\n",
              "           2.1526e-02,  3.9095e-03,  9.2086e-02, -1.4070e-02, -7.6942e-02,\n",
              "          -6.6027e-02,  3.9773e-02,  6.2039e-02, -2.4902e-02, -5.8384e-02,\n",
              "           6.0342e-02,  6.6495e-02,  2.2253e-02,  8.0873e-02,  8.5218e-03,\n",
              "           5.6201e-02,  4.5563e-02, -7.5037e-02, -8.2293e-02,  2.2029e-02,\n",
              "          -9.4979e-02,  3.9837e-02, -4.5337e-02, -3.9790e-02,  6.9750e-02,\n",
              "           2.9922e-03,  9.9463e-02, -3.1630e-02,  4.1561e-02,  9.6514e-02,\n",
              "           8.7710e-02,  9.0682e-03,  9.9775e-02, -8.5451e-02, -3.1047e-02,\n",
              "           5.2434e-02,  6.8506e-02, -9.8361e-02,  8.7145e-02,  3.8716e-02,\n",
              "          -4.8830e-02,  3.0380e-02, -8.7460e-02,  6.2717e-02,  2.4540e-03,\n",
              "           2.7626e-03,  9.6427e-02, -6.2519e-02,  7.6528e-02, -7.9148e-02,\n",
              "          -3.7656e-02, -3.6372e-02,  8.8010e-02, -6.7908e-02, -7.9120e-03,\n",
              "          -4.9097e-02, -7.6039e-02,  5.1077e-02,  1.6303e-02,  1.7922e-02,\n",
              "           6.7968e-02,  5.5114e-02,  6.1384e-02, -1.0090e-02,  4.2996e-03,\n",
              "          -2.2199e-02,  7.1954e-02,  4.8569e-02, -4.4989e-02,  4.0900e-02,\n",
              "          -2.7258e-02,  7.6817e-02, -3.4868e-02, -5.6405e-02, -6.1646e-02,\n",
              "          -5.6991e-03, -3.1228e-02, -8.9240e-02, -9.1267e-02, -8.1070e-02,\n",
              "          -7.8146e-02,  1.2793e-02, -6.7511e-02,  4.9184e-02, -1.5830e-02],\n",
              "         [ 4.2121e-02,  5.5835e-03,  3.7992e-02,  5.1112e-02, -2.3702e-02,\n",
              "          -9.8376e-02,  1.1524e-02,  2.0772e-02,  2.0697e-02, -7.0378e-02,\n",
              "           2.4125e-02, -1.6428e-02,  1.3780e-02, -2.6842e-02,  5.4785e-02,\n",
              "           6.0735e-02,  2.9501e-02, -6.3422e-03, -6.8903e-02,  9.6691e-02,\n",
              "           4.8044e-02,  6.0219e-02,  9.7728e-02,  8.4261e-02,  8.2294e-02,\n",
              "           4.9386e-02, -9.6224e-03, -1.0190e-03, -9.3739e-02,  5.3576e-03,\n",
              "          -9.5561e-02,  1.1550e-02, -9.1845e-03, -8.6838e-04, -4.7384e-02,\n",
              "           4.1621e-02,  9.4230e-02,  7.9677e-02, -7.5045e-02,  8.9782e-02,\n",
              "           1.3919e-02, -5.3817e-02,  4.5286e-02,  9.9644e-02, -5.4228e-02,\n",
              "           9.0468e-02, -3.0083e-02, -1.5836e-03, -3.1364e-02,  1.2639e-02,\n",
              "           2.2555e-02,  1.2826e-02,  1.3590e-04,  4.5315e-02, -3.7954e-02,\n",
              "           8.5678e-02,  2.1693e-02,  9.5109e-02, -5.5364e-02, -1.3783e-02,\n",
              "          -4.7787e-02, -9.4775e-02, -8.6545e-02,  3.1284e-02,  2.3996e-02,\n",
              "           2.3084e-03, -2.0101e-02, -3.2738e-04, -4.1603e-03,  4.5709e-02,\n",
              "           7.0260e-02, -8.7272e-02,  9.9730e-02, -4.4599e-02, -8.3349e-02,\n",
              "           5.5917e-02,  4.8640e-02, -9.3513e-04,  7.7191e-02,  9.9134e-02,\n",
              "          -6.8613e-04, -3.6898e-02, -6.4832e-02, -5.2352e-02,  6.7414e-02,\n",
              "          -4.6885e-02,  1.3488e-02, -4.3831e-02, -9.1843e-02,  1.4428e-02,\n",
              "          -6.7099e-02,  2.7342e-02, -2.5278e-03, -3.9866e-02, -2.0599e-02,\n",
              "          -5.8145e-02,  6.1179e-02, -2.4717e-02,  6.3950e-02,  5.4087e-02],\n",
              "         [ 2.8610e-02,  6.4514e-02, -1.2540e-02,  8.7364e-02, -7.2797e-02,\n",
              "          -2.6892e-02, -9.7764e-02, -1.8574e-02, -7.7030e-02, -4.9418e-02,\n",
              "           5.4119e-02, -7.9135e-02, -3.4236e-02, -5.0288e-02, -2.8733e-02,\n",
              "          -3.5361e-02,  5.5221e-03, -8.2351e-02, -2.0069e-03, -7.2272e-02,\n",
              "           2.7808e-02, -2.2932e-02,  4.1970e-02, -6.9649e-02,  6.5904e-04,\n",
              "           8.2907e-02, -8.7771e-02,  1.7731e-02,  1.3905e-02,  5.5563e-02,\n",
              "          -9.2947e-02, -6.0013e-02, -1.9404e-02, -1.6625e-03,  1.7336e-03,\n",
              "          -3.0804e-02, -8.5937e-02, -3.6314e-02,  2.7036e-02, -6.0515e-03,\n",
              "           3.4525e-02,  6.4642e-02,  4.2662e-02, -4.9935e-02, -6.2583e-03,\n",
              "           9.2226e-02, -8.0875e-02, -7.8695e-02,  5.0465e-02,  9.0875e-02,\n",
              "          -7.6631e-02, -7.3192e-02,  6.7852e-02, -7.7820e-03, -7.5793e-02,\n",
              "          -7.2202e-02, -5.1091e-02,  3.9553e-02,  9.0561e-02,  5.9823e-03,\n",
              "           6.2223e-02,  6.6341e-02, -2.8571e-02, -9.4621e-02, -3.3427e-02,\n",
              "          -1.3362e-02, -4.1610e-02,  1.5948e-02, -6.4983e-02,  4.9297e-02,\n",
              "           6.8778e-03, -9.0082e-02, -3.9074e-02, -9.9615e-02,  8.3942e-02,\n",
              "           2.7174e-02,  8.5238e-04, -3.6985e-02, -3.6288e-02,  4.9076e-02,\n",
              "           7.4874e-02,  3.9072e-02, -7.5843e-02, -2.8417e-02, -2.0338e-02,\n",
              "           6.6406e-02,  9.0150e-02,  9.6098e-02,  5.2706e-02,  9.1483e-02,\n",
              "          -5.5345e-02, -3.5071e-02, -8.7755e-02, -1.9655e-02, -3.2120e-02,\n",
              "           1.4332e-02,  4.0685e-02, -7.5620e-02,  8.1918e-02,  6.2103e-03],\n",
              "         [-3.8142e-02, -3.1002e-03, -8.2768e-02, -4.8871e-02,  9.0905e-02,\n",
              "          -1.6168e-02, -9.7202e-02,  9.9767e-03,  9.8987e-02, -2.8287e-02,\n",
              "          -9.2907e-02, -6.0142e-02, -6.8431e-02, -2.7159e-02,  8.8112e-02,\n",
              "          -4.6432e-02,  6.7177e-02,  8.0774e-02, -6.8377e-02, -3.4282e-02,\n",
              "          -7.6370e-02, -8.4781e-02,  9.7446e-02,  3.2021e-02, -9.5739e-02,\n",
              "          -2.1155e-02, -9.7277e-03,  3.2699e-02, -1.6277e-02,  1.6686e-03,\n",
              "          -4.2849e-02, -7.3747e-02, -8.1927e-03, -9.0228e-02, -7.9101e-02,\n",
              "           7.9926e-02, -8.9289e-02,  2.6659e-02,  8.4121e-02, -8.2552e-02,\n",
              "           8.1125e-02,  8.9673e-02, -5.5099e-02,  3.6765e-03,  3.7120e-03,\n",
              "          -8.0756e-02, -3.3230e-02,  9.4786e-02,  3.5493e-02, -2.0621e-02,\n",
              "          -1.0416e-02, -5.8777e-02, -8.8774e-02, -4.9289e-02,  2.3202e-02,\n",
              "           5.2175e-02,  9.3120e-02,  5.2367e-02,  1.1786e-02,  1.3842e-02,\n",
              "           1.5830e-02,  6.3189e-02,  2.3491e-02, -2.1407e-02,  3.3229e-02,\n",
              "           3.4066e-02, -9.2374e-02, -3.4598e-03, -8.1318e-02,  6.4186e-03,\n",
              "           6.0431e-02, -5.9766e-02, -9.7015e-02, -2.8871e-02, -9.5174e-02,\n",
              "           3.6519e-02,  9.1958e-05,  2.7010e-02,  4.9551e-02,  4.9775e-02,\n",
              "          -2.2991e-02, -9.5165e-02, -8.8162e-02, -3.2422e-02,  1.1935e-02,\n",
              "          -1.6362e-02, -2.9836e-02,  2.8342e-02,  2.4682e-02, -5.4005e-02,\n",
              "           5.8677e-02,  7.7510e-02, -6.5951e-02, -1.2634e-02,  2.3207e-02,\n",
              "          -9.0103e-03,  6.1882e-02, -9.3701e-02,  7.7815e-02,  1.8821e-02],\n",
              "         [ 8.4807e-02, -8.7174e-02, -2.8180e-02,  5.3299e-02,  6.5051e-02,\n",
              "           8.7920e-02, -6.8032e-02,  4.2128e-03,  2.1359e-02, -9.6309e-02,\n",
              "           3.9782e-02, -6.9702e-03,  3.2704e-03, -2.2418e-02,  6.4680e-02,\n",
              "          -1.9735e-02, -5.3225e-02, -1.5838e-02, -7.8907e-03, -5.3345e-02,\n",
              "           3.7337e-02,  9.8351e-02, -8.1970e-02, -2.2032e-02,  6.7541e-02,\n",
              "           2.7712e-02,  2.3003e-02, -7.1361e-02, -2.3463e-02, -9.4951e-02,\n",
              "           9.1520e-03,  1.3826e-02,  9.8276e-02,  6.5960e-02,  4.4227e-02,\n",
              "           5.0613e-02, -1.3746e-02, -7.3093e-02,  3.2446e-02,  5.1632e-02,\n",
              "          -5.2473e-02, -9.3582e-02, -9.8761e-02,  9.3674e-03,  5.6623e-02,\n",
              "          -4.8308e-02,  6.1989e-02, -6.7381e-02, -9.4066e-02, -3.1188e-02,\n",
              "           5.6981e-02, -6.8440e-02, -6.8499e-02, -1.9358e-02,  3.0307e-02,\n",
              "          -1.0614e-03,  4.2334e-02,  8.5634e-02,  4.9443e-02,  3.8692e-02,\n",
              "           8.1880e-02,  9.3101e-02,  6.7067e-03, -1.6351e-02,  6.7601e-02,\n",
              "           6.9413e-02, -3.1637e-02,  4.8851e-02, -4.3666e-02, -8.1346e-02,\n",
              "           2.7349e-02, -5.1742e-02, -6.8114e-02, -4.0214e-02, -6.5162e-02,\n",
              "          -7.5146e-02, -5.1752e-02, -9.1408e-02,  4.2330e-02, -8.9086e-02,\n",
              "           6.4041e-02,  6.9764e-02,  8.0016e-02,  2.8706e-02, -7.1344e-02,\n",
              "          -6.2108e-02,  9.7420e-02, -9.1758e-02, -5.6185e-02, -6.2334e-02,\n",
              "           7.0079e-02,  8.7006e-02,  2.0452e-02,  5.8749e-02, -2.4864e-02,\n",
              "           7.6712e-02, -3.3398e-02, -2.6211e-03, -2.4314e-02,  4.0761e-02],\n",
              "         [-9.3515e-02,  2.0417e-02, -2.1151e-02, -5.1495e-02,  1.4841e-02,\n",
              "           8.3774e-02,  8.4530e-02,  7.7746e-02,  3.4164e-02,  7.4193e-02,\n",
              "           2.8678e-02,  7.7616e-02,  5.4603e-03, -7.8761e-02,  4.9754e-02,\n",
              "          -2.1071e-02,  2.9845e-02,  2.9181e-02, -7.8352e-02, -3.2108e-02,\n",
              "           6.9577e-02, -3.5314e-02,  5.2970e-02,  5.8762e-02,  7.4659e-02,\n",
              "           8.9413e-02,  9.3470e-02, -7.2375e-02,  1.0234e-02,  9.6588e-03,\n",
              "           5.5941e-02, -1.5901e-02,  9.9707e-03,  1.5490e-02, -1.1338e-03,\n",
              "           6.5775e-02,  8.9676e-02,  2.9676e-02, -1.0570e-02,  5.0895e-02,\n",
              "          -4.0648e-02, -8.9865e-02, -3.7688e-02, -6.7394e-02, -8.6274e-03,\n",
              "           1.0655e-02,  8.8581e-02,  2.1176e-02, -4.6445e-04,  5.5325e-02,\n",
              "          -1.7308e-02,  2.0725e-02, -3.2669e-03,  7.6252e-02,  3.1227e-02,\n",
              "           1.5341e-02,  4.4013e-02,  6.7858e-02, -2.7038e-02, -3.6654e-02,\n",
              "           6.4611e-02,  9.0120e-02,  9.6780e-02,  2.4807e-02,  7.2107e-02,\n",
              "          -9.8087e-02,  5.1386e-03, -1.5269e-02, -6.9387e-02, -5.8048e-02,\n",
              "          -4.7854e-02, -8.5987e-02,  1.3268e-02,  1.3906e-02,  9.4233e-02,\n",
              "          -1.8121e-02, -6.2546e-02,  6.2163e-02, -5.4426e-02,  7.5856e-02,\n",
              "          -7.9779e-02,  5.2805e-02,  9.9264e-02, -2.9058e-02,  7.9053e-03,\n",
              "           1.1062e-02,  9.4441e-02, -6.6252e-02, -5.1658e-02,  6.3670e-02,\n",
              "           2.1499e-02,  6.7269e-02, -4.8703e-02,  4.2004e-03, -4.3553e-02,\n",
              "          -4.0658e-02, -4.8484e-02, -5.1235e-02, -5.6671e-02,  1.8464e-02],\n",
              "         [-8.6288e-02, -3.9661e-02,  8.2073e-02,  2.6790e-02, -8.4901e-02,\n",
              "           1.3689e-02,  3.1323e-02, -7.8164e-02, -1.6740e-02, -1.6627e-02,\n",
              "          -2.2386e-02,  5.0280e-02,  8.8926e-02, -9.9577e-02, -9.0654e-02,\n",
              "          -5.9585e-02, -4.2160e-04, -1.4661e-02, -3.3126e-02, -1.0694e-02,\n",
              "           3.1316e-02, -1.1617e-02, -1.1728e-02, -4.0903e-02,  6.3384e-02,\n",
              "           3.9804e-02,  7.0666e-02,  1.8190e-02, -3.9314e-02,  4.1594e-03,\n",
              "           9.3058e-02, -6.0497e-02, -7.6308e-02, -3.4624e-02, -2.6662e-02,\n",
              "           7.8866e-02,  1.4325e-02,  9.0218e-02, -9.7475e-03, -5.5624e-02,\n",
              "           1.2265e-02,  7.5798e-02, -4.6649e-02, -7.1714e-02, -9.2660e-02,\n",
              "           9.1346e-02,  3.5850e-02,  6.6864e-02,  4.3424e-02,  5.3646e-02,\n",
              "          -1.3602e-02, -8.1905e-02, -6.8553e-02, -6.5075e-02, -1.7516e-02,\n",
              "          -2.1731e-02,  6.4095e-02, -6.4254e-02, -3.3115e-02, -6.4613e-02,\n",
              "          -9.0000e-02,  2.9347e-02, -8.6792e-02,  8.1310e-03,  4.4243e-02,\n",
              "           5.3346e-02,  5.5082e-02, -7.0446e-02, -8.9399e-02,  3.6565e-02,\n",
              "          -1.6414e-02,  4.8758e-02, -7.3194e-02,  1.8812e-02, -1.2552e-02,\n",
              "           6.4617e-03, -8.9880e-03,  7.7720e-02, -5.9224e-03,  4.3753e-02,\n",
              "           3.5699e-02, -4.3989e-02,  4.8558e-02,  3.9769e-02,  9.2860e-02,\n",
              "          -6.1774e-02, -2.5474e-02,  9.5866e-02, -5.2466e-02, -2.8632e-02,\n",
              "          -9.2413e-02,  5.3627e-02, -8.4036e-03, -6.3802e-02,  5.2769e-02,\n",
              "          -4.1956e-02, -7.3287e-02, -6.2991e-02, -3.4443e-02, -3.9968e-03],\n",
              "         [ 3.7825e-03,  5.5408e-02,  6.6644e-02,  4.4681e-02, -2.4807e-02,\n",
              "          -3.3816e-02,  1.3960e-02, -7.3661e-02, -6.6445e-02,  9.5187e-02,\n",
              "          -9.0955e-02,  8.9829e-02,  2.7186e-02,  8.2309e-02,  8.1428e-03,\n",
              "          -7.6358e-03,  3.1522e-02, -7.5586e-02,  9.0806e-02,  3.0049e-02,\n",
              "          -5.2882e-02, -3.1571e-02, -3.3629e-02, -7.5150e-02, -4.3946e-02,\n",
              "          -9.7019e-02, -3.9608e-02,  4.4869e-02,  1.1633e-02, -3.9003e-02,\n",
              "           8.0916e-02, -7.3996e-02, -3.7937e-02, -8.2890e-02,  2.9532e-02,\n",
              "           2.1521e-02,  5.5233e-02,  9.9915e-02,  2.6054e-02, -4.6023e-02,\n",
              "          -4.6116e-02, -2.6142e-02, -7.8648e-02,  6.0608e-02,  1.5398e-02,\n",
              "           9.6713e-02, -3.3259e-02, -1.7525e-02, -6.7782e-02,  3.7505e-03,\n",
              "          -9.6601e-02, -8.4657e-02,  2.7787e-02,  8.0604e-02, -4.7361e-02,\n",
              "          -4.5356e-02,  3.7380e-02, -7.0265e-02, -3.2030e-02, -5.8238e-02,\n",
              "          -5.7596e-02, -6.8365e-02,  5.2780e-02,  1.8396e-02,  1.9041e-02,\n",
              "           2.3998e-02, -3.2704e-02, -5.5925e-02, -2.0065e-02,  8.6161e-02,\n",
              "          -9.5958e-02, -8.5756e-02,  1.2735e-02,  5.0354e-03,  7.3905e-02,\n",
              "           3.3209e-02,  7.2755e-02, -2.2588e-04, -1.9235e-02, -6.0350e-02,\n",
              "           6.6997e-02,  5.9450e-02,  2.4978e-02,  8.6232e-02,  6.8173e-02,\n",
              "          -8.0493e-02,  8.9074e-02, -6.5827e-02,  3.5772e-02,  8.8390e-02,\n",
              "           7.8516e-02,  3.7996e-03, -8.3805e-02,  6.7919e-02, -5.6604e-02,\n",
              "          -1.4011e-02,  5.0708e-02,  9.0730e-02, -5.3315e-02, -7.3587e-02]],\n",
              "        device='cuda:0', requires_grad=True), Parameter containing:\n",
              " tensor([-0.0242,  0.0127, -0.0521,  0.0084, -0.0439, -0.0051, -0.0284, -0.0172,\n",
              "         -0.0644,  0.0009], device='cuda:0', requires_grad=True)]"
            ]
          },
          "metadata": {},
          "execution_count": 30
        }
      ],
      "source": [
        "device = torch.device('cuda:0' if torch.cuda.is_available() else 'cpu')\n",
        "\n",
        "# перекладываем NN на видеокарту\n",
        "# ф-ю .to наследуем от torch.nn\n",
        "mnist_net = mnist_net.to(device)\n",
        "\n",
        "# выводим параметры NN, чтобы проверить, переложились ли они на cuda\n",
        "list(mnist_net.parameters())\n",
        "\n",
        "# 1 элемент: все веса 1го слоя\n",
        "# 2 элемент: все смещения 1го слоя"
      ]
    },
    {
      "cell_type": "code",
      "execution_count": null,
      "id": "115efe36",
      "metadata": {
        "id": "115efe36"
      },
      "outputs": [],
      "source": []
    },
    {
      "cell_type": "code",
      "execution_count": 31,
      "id": "b608c81c",
      "metadata": {
        "id": "b608c81c"
      },
      "outputs": [],
      "source": [
        "loss = torch.nn.CrossEntropyLoss()\n",
        "optimizer = torch.optim.Adam(mnist_net.parameters(), lr=1.0e-3)"
      ]
    },
    {
      "cell_type": "code",
      "execution_count": 33,
      "id": "17f0a19c",
      "metadata": {
        "colab": {
          "base_uri": "https://localhost:8080/",
          "height": 808
        },
        "id": "17f0a19c",
        "outputId": "bd5d6f0c-c778-47e1-94b8-cac88264c3f3"
      },
      "outputs": [
        {
          "output_type": "stream",
          "name": "stdout",
          "text": [
            "tensor(0.9103)\n",
            "tensor(0.9203)\n",
            "tensor(0.9200)\n",
            "tensor(0.9186)\n",
            "tensor(0.9279)\n",
            "tensor(0.9284)\n",
            "tensor(0.9308)\n",
            "tensor(0.9334)\n",
            "tensor(0.9348)\n",
            "tensor(0.9362)\n",
            "tensor(0.9314)\n",
            "tensor(0.9368)\n",
            "tensor(0.9376)\n",
            "tensor(0.9420)\n",
            "tensor(0.9372)\n",
            "tensor(0.9416)\n",
            "tensor(0.9416)\n",
            "tensor(0.9396)\n",
            "tensor(0.9400)\n",
            "tensor(0.9428)\n",
            "tensor(0.9423)\n",
            "tensor(0.9478)\n",
            "tensor(0.9461)\n",
            "tensor(0.9408)\n",
            "tensor(0.9413)\n",
            "tensor(0.9475)\n",
            "tensor(0.9405)\n",
            "tensor(0.9463)\n",
            "tensor(0.9444)\n",
            "tensor(0.9459)\n",
            "tensor(0.9486)\n",
            "tensor(0.9419)\n",
            "tensor(0.9435)\n"
          ]
        },
        {
          "output_type": "error",
          "ename": "KeyboardInterrupt",
          "evalue": "ignored",
          "traceback": [
            "\u001b[0;31m---------------------------------------------------------------------------\u001b[0m",
            "\u001b[0;31mKeyboardInterrupt\u001b[0m                         Traceback (most recent call last)",
            "\u001b[0;32m<ipython-input-33-5a7f7ef2b1bd>\u001b[0m in \u001b[0;36m<module>\u001b[0;34m\u001b[0m\n\u001b[1;32m     21\u001b[0m \u001b[0;31m# (картинка) встречалась 1 раз\u001b[0m\u001b[0;34m\u001b[0m\u001b[0;34m\u001b[0m\u001b[0;34m\u001b[0m\u001b[0m\n\u001b[1;32m     22\u001b[0m \u001b[0;31m# Тренировочные данные перекладываем на видеокарту по батчам\u001b[0m\u001b[0;34m\u001b[0m\u001b[0;34m\u001b[0m\u001b[0;34m\u001b[0m\u001b[0m\n\u001b[0;32m---> 23\u001b[0;31m         \u001b[0mX_batch\u001b[0m \u001b[0;34m=\u001b[0m \u001b[0mX_train\u001b[0m\u001b[0;34m[\u001b[0m\u001b[0mbatch_indexes\u001b[0m\u001b[0;34m]\u001b[0m\u001b[0;34m.\u001b[0m\u001b[0mto\u001b[0m\u001b[0;34m(\u001b[0m\u001b[0mdevice\u001b[0m\u001b[0;34m)\u001b[0m\u001b[0;34m\u001b[0m\u001b[0;34m\u001b[0m\u001b[0m\n\u001b[0m\u001b[1;32m     24\u001b[0m         \u001b[0my_batch\u001b[0m \u001b[0;34m=\u001b[0m \u001b[0my_train\u001b[0m\u001b[0;34m[\u001b[0m\u001b[0mbatch_indexes\u001b[0m\u001b[0;34m]\u001b[0m\u001b[0;34m.\u001b[0m\u001b[0mto\u001b[0m\u001b[0;34m(\u001b[0m\u001b[0mdevice\u001b[0m\u001b[0;34m)\u001b[0m\u001b[0;34m\u001b[0m\u001b[0;34m\u001b[0m\u001b[0m\n\u001b[1;32m     25\u001b[0m \u001b[0;34m\u001b[0m\u001b[0m\n",
            "\u001b[0;31mKeyboardInterrupt\u001b[0m: "
          ]
        }
      ],
      "source": [
        "batch_size = 100\n",
        "\n",
        "test_accuracy_history = []\n",
        "test_loss_history = []\n",
        "\n",
        "# перекладываем тестовые данные на видеокарту\n",
        "X_test = X_test.to(device)\n",
        "y_test = y_test.to(device)\n",
        "\n",
        "for epoch in range(10000):\n",
        "# permutation per epoch\n",
        "    order = np.random.permutation(len(X_train))\n",
        "    \n",
        "    for start_index in range(0, len(X_train), batch_size):\n",
        "        optimizer.zero_grad()\n",
        "        \n",
        "        batch_indexes = order[start_index:start_index+batch_size]\n",
        "        \n",
        "        \n",
        "# Выделяем последовательные участки так, чтобы внутри 1 эпохи каждый элемент \n",
        "# (картинка) встречалась 1 раз\n",
        "# Тренировочные данные перекладываем на видеокарту по батчам\n",
        "        X_batch = X_train[batch_indexes].to(device)\n",
        "        y_batch = y_train[batch_indexes].to(device)\n",
        "        \n",
        "        preds = mnist_net.forward(X_batch) \n",
        "        \n",
        "        loss_value = loss(preds, y_batch)\n",
        "        loss_value.backward()\n",
        "        \n",
        "        optimizer.step()\n",
        "\n",
        "# Делаем forward по всему тестовому датасету\n",
        "# Оптимизация; батчи могут не умещаться на видеокарту \n",
        "    test_preds = mnist_net.forward(X_test)\n",
        "    test_loss_history.append(loss(test_preds, y_test).cpu().detach().numpy())\n",
        "    \n",
        "    accuracy = (test_preds.argmax(dim=1) == y_test).float().mean().cpu()\n",
        "    test_accuracy_history.append(accuracy)\n",
        "    print(accuracy)"
      ]
    },
    {
      "cell_type": "code",
      "execution_count": null,
      "id": "5b1b7f13",
      "metadata": {
        "id": "5b1b7f13"
      },
      "outputs": [],
      "source": []
    },
    {
      "cell_type": "code",
      "execution_count": 35,
      "id": "635b2b52",
      "metadata": {
        "colab": {
          "base_uri": "https://localhost:8080/",
          "height": 284
        },
        "id": "635b2b52",
        "outputId": "11736877-1bb5-4a2b-adf4-7a2328a8c477"
      },
      "outputs": [
        {
          "output_type": "execute_result",
          "data": {
            "text/plain": [
              "[<matplotlib.lines.Line2D at 0x7fc42b223df0>]"
            ]
          },
          "metadata": {},
          "execution_count": 35
        },
        {
          "output_type": "display_data",
          "data": {
            "text/plain": [
              "<Figure size 432x288 with 1 Axes>"
            ],
            "image/png": "[encoded data removed]"
          },
          "metadata": {
            "needs_background": "light"
          }
        }
      ],
      "source": [
        "plt.plot(test_accuracy_history)"
      ]
    },
    {
      "cell_type": "code",
      "execution_count": 36,
      "id": "33041195",
      "metadata": {
        "colab": {
          "base_uri": "https://localhost:8080/",
          "height": 285
        },
        "id": "33041195",
        "outputId": "955b0c23-5b37-4369-8ab1-8801d2b79594"
      },
      "outputs": [
        {
          "output_type": "execute_result",
          "data": {
            "text/plain": [
              "[<matplotlib.lines.Line2D at 0x7fc42b0c4580>]"
            ]
          },
          "metadata": {},
          "execution_count": 36
        },
        {
          "output_type": "display_data",
          "data": {
            "text/plain": [
              "<Figure size 432x288 with 1 Axes>"
            ],
            "image/png": "[encoded data removed]"
          },
          "metadata": {
            "needs_background": "light"
          }
        }
      ],
      "source": [
        "plt.plot(test_loss_history)"
      ]
    },
    {
      "cell_type": "code",
      "execution_count": null,
      "id": "a6a83953",
      "metadata": {
        "id": "a6a83953"
      },
      "outputs": [],
      "source": []
    },
    {
      "cell_type": "code",
      "execution_count": null,
      "id": "7ae74f48",
      "metadata": {
        "id": "7ae74f48"
      },
      "outputs": [],
      "source": []
    },
    {
      "cell_type": "code",
      "execution_count": null,
      "id": "8611e909",
      "metadata": {
        "id": "8611e909"
      },
      "outputs": [],
      "source": []
    },
    {
      "cell_type": "code",
      "execution_count": null,
      "id": "639547cb",
      "metadata": {
        "id": "639547cb"
      },
      "outputs": [],
      "source": []
    }
  ],
  "metadata": {
    "kernelspec": {
      "display_name": "Python 3 (ipykernel)",
      "language": "python",
      "name": "python3"
    },
    "language_info": {
      "codemirror_mode": {
        "name": "ipython",
        "version": 3
      },
      "file_extension": ".py",
      "mimetype": "text/x-python",
      "name": "python",
      "nbconvert_exporter": "python",
      "pygments_lexer": "ipython3",
      "version": "3.9.7"
    },
    "colab": {
      "provenance": []
    },
    "accelerator": "GPU",
    "gpuClass": "standard",
    "widgets": {
      "application/vnd.jupyter.widget-state+json": {
        "ad961d227ea74e06b3c14a409ed29e0d": {
          "model_module": "@jupyter-widgets/controls",
          "model_name": "HBoxModel",
          "model_module_version": "1.5.0",
          "state": {
            "_dom_classes": [],
            "_model_module": "@jupyter-widgets/controls",
            "_model_module_version": "1.5.0",
            "_model_name": "HBoxModel",
            "_view_count": null,
            "_view_module": "@jupyter-widgets/controls",
            "_view_module_version": "1.5.0",
            "_view_name": "HBoxView",
            "box_style": "",
            "children": [
              "IPY_MODEL_aa887a5c980a4d8c8155cf443ddce2c4",
              "IPY_MODEL_78ea15f74aa94cf9bb7f43c4e43189e0",
              "IPY_MODEL_6719ce1a16db41faa4048215d398c624"
            ],
            "layout": "IPY_MODEL_b1bed4f998034e19bbde5fd1cdf307b8"
          }
        },
        "aa887a5c980a4d8c8155cf443ddce2c4": {
          "model_module": "@jupyter-widgets/controls",
          "model_name": "HTMLModel",
          "model_module_version": "1.5.0",
          "state": {
            "_dom_classes": [],
            "_model_module": "@jupyter-widgets/controls",
            "_model_module_version": "1.5.0",
            "_model_name": "HTMLModel",
            "_view_count": null,
            "_view_module": "@jupyter-widgets/controls",
            "_view_module_version": "1.5.0",
            "_view_name": "HTMLView",
            "description": "",
            "description_tooltip": null,
            "layout": "IPY_MODEL_2321c461ec3d449586d5b02e45495fef",
            "placeholder": "​",
            "style": "IPY_MODEL_281cb9c397a74ad9813d9c27e61d295d",
            "value": "100%"
          }
        },
        "78ea15f74aa94cf9bb7f43c4e43189e0": {
          "model_module": "@jupyter-widgets/controls",
          "model_name": "FloatProgressModel",
          "model_module_version": "1.5.0",
          "state": {
            "_dom_classes": [],
            "_model_module": "@jupyter-widgets/controls",
            "_model_module_version": "1.5.0",
            "_model_name": "FloatProgressModel",
            "_view_count": null,
            "_view_module": "@jupyter-widgets/controls",
            "_view_module_version": "1.5.0",
            "_view_name": "ProgressView",
            "bar_style": "success",
            "description": "",
            "description_tooltip": null,
            "layout": "IPY_MODEL_11ba327728034a10bffceaa26fd9a7da",
            "max": 9912422,
            "min": 0,
            "orientation": "horizontal",
            "style": "IPY_MODEL_23d56317b1f246aebe4d05873740e963",
            "value": 9912422
          }
        },
        "6719ce1a16db41faa4048215d398c624": {
          "model_module": "@jupyter-widgets/controls",
          "model_name": "HTMLModel",
          "model_module_version": "1.5.0",
          "state": {
            "_dom_classes": [],
            "_model_module": "@jupyter-widgets/controls",
            "_model_module_version": "1.5.0",
            "_model_name": "HTMLModel",
            "_view_count": null,
            "_view_module": "@jupyter-widgets/controls",
            "_view_module_version": "1.5.0",
            "_view_name": "HTMLView",
            "description": "",
            "description_tooltip": null,
            "layout": "IPY_MODEL_83aecd47d53e4d969bef670cc6bf75d8",
            "placeholder": "​",
            "style": "IPY_MODEL_8e1b3e835ca24fb28677e454ea8aa7f9",
            "value": " 9912422/9912422 [00:00&lt;00:00, 124869609.96it/s]"
          }
        },
        "b1bed4f998034e19bbde5fd1cdf307b8": {
          "model_module": "@jupyter-widgets/base",
          "model_name": "LayoutModel",
          "model_module_version": "1.2.0",
          "state": {
            "_model_module": "@jupyter-widgets/base",
            "_model_module_version": "1.2.0",
            "_model_name": "LayoutModel",
            "_view_count": null,
            "_view_module": "@jupyter-widgets/base",
            "_view_module_version": "1.2.0",
            "_view_name": "LayoutView",
            "align_content": null,
            "align_items": null,
            "align_self": null,
            "border": null,
            "bottom": null,
            "display": null,
            "flex": null,
            "flex_flow": null,
            "grid_area": null,
            "grid_auto_columns": null,
            "grid_auto_flow": null,
            "grid_auto_rows": null,
            "grid_column": null,
            "grid_gap": null,
            "grid_row": null,
            "grid_template_areas": null,
            "grid_template_columns": null,
            "grid_template_rows": null,
            "height": null,
            "justify_content": null,
            "justify_items": null,
            "left": null,
            "margin": null,
            "max_height": null,
            "max_width": null,
            "min_height": null,
            "min_width": null,
            "object_fit": null,
            "object_position": null,
            "order": null,
            "overflow": null,
            "overflow_x": null,
            "overflow_y": null,
            "padding": null,
            "right": null,
            "top": null,
            "visibility": null,
            "width": null
          }
        },
        "2321c461ec3d449586d5b02e45495fef": {
          "model_module": "@jupyter-widgets/base",
          "model_name": "LayoutModel",
          "model_module_version": "1.2.0",
          "state": {
            "_model_module": "@jupyter-widgets/base",
            "_model_module_version": "1.2.0",
            "_model_name": "LayoutModel",
            "_view_count": null,
            "_view_module": "@jupyter-widgets/base",
            "_view_module_version": "1.2.0",
            "_view_name": "LayoutView",
            "align_content": null,
            "align_items": null,
            "align_self": null,
            "border": null,
            "bottom": null,
            "display": null,
            "flex": null,
            "flex_flow": null,
            "grid_area": null,
            "grid_auto_columns": null,
            "grid_auto_flow": null,
            "grid_auto_rows": null,
            "grid_column": null,
            "grid_gap": null,
            "grid_row": null,
            "grid_template_areas": null,
            "grid_template_columns": null,
            "grid_template_rows": null,
            "height": null,
            "justify_content": null,
            "justify_items": null,
            "left": null,
            "margin": null,
            "max_height": null,
            "max_width": null,
            "min_height": null,
            "min_width": null,
            "object_fit": null,
            "object_position": null,
            "order": null,
            "overflow": null,
            "overflow_x": null,
            "overflow_y": null,
            "padding": null,
            "right": null,
            "top": null,
            "visibility": null,
            "width": null
          }
        },
        "281cb9c397a74ad9813d9c27e61d295d": {
          "model_module": "@jupyter-widgets/controls",
          "model_name": "DescriptionStyleModel",
          "model_module_version": "1.5.0",
          "state": {
            "_model_module": "@jupyter-widgets/controls",
            "_model_module_version": "1.5.0",
            "_model_name": "DescriptionStyleModel",
            "_view_count": null,
            "_view_module": "@jupyter-widgets/base",
            "_view_module_version": "1.2.0",
            "_view_name": "StyleView",
            "description_width": ""
          }
        },
        "11ba327728034a10bffceaa26fd9a7da": {
          "model_module": "@jupyter-widgets/base",
          "model_name": "LayoutModel",
          "model_module_version": "1.2.0",
          "state": {
            "_model_module": "@jupyter-widgets/base",
            "_model_module_version": "1.2.0",
            "_model_name": "LayoutModel",
            "_view_count": null,
            "_view_module": "@jupyter-widgets/base",
            "_view_module_version": "1.2.0",
            "_view_name": "LayoutView",
            "align_content": null,
            "align_items": null,
            "align_self": null,
            "border": null,
            "bottom": null,
            "display": null,
            "flex": null,
            "flex_flow": null,
            "grid_area": null,
            "grid_auto_columns": null,
            "grid_auto_flow": null,
            "grid_auto_rows": null,
            "grid_column": null,
            "grid_gap": null,
            "grid_row": null,
            "grid_template_areas": null,
            "grid_template_columns": null,
            "grid_template_rows": null,
            "height": null,
            "justify_content": null,
            "justify_items": null,
            "left": null,
            "margin": null,
            "max_height": null,
            "max_width": null,
            "min_height": null,
            "min_width": null,
            "object_fit": null,
            "object_position": null,
            "order": null,
            "overflow": null,
            "overflow_x": null,
            "overflow_y": null,
            "padding": null,
            "right": null,
            "top": null,
            "visibility": null,
            "width": null
          }
        },
        "23d56317b1f246aebe4d05873740e963": {
          "model_module": "@jupyter-widgets/controls",
          "model_name": "ProgressStyleModel",
          "model_module_version": "1.5.0",
          "state": {
            "_model_module": "@jupyter-widgets/controls",
            "_model_module_version": "1.5.0",
            "_model_name": "ProgressStyleModel",
            "_view_count": null,
            "_view_module": "@jupyter-widgets/base",
            "_view_module_version": "1.2.0",
            "_view_name": "StyleView",
            "bar_color": null,
            "description_width": ""
          }
        },
        "83aecd47d53e4d969bef670cc6bf75d8": {
          "model_module": "@jupyter-widgets/base",
          "model_name": "LayoutModel",
          "model_module_version": "1.2.0",
          "state": {
            "_model_module": "@jupyter-widgets/base",
            "_model_module_version": "1.2.0",
            "_model_name": "LayoutModel",
            "_view_count": null,
            "_view_module": "@jupyter-widgets/base",
            "_view_module_version": "1.2.0",
            "_view_name": "LayoutView",
            "align_content": null,
            "align_items": null,
            "align_self": null,
            "border": null,
            "bottom": null,
            "display": null,
            "flex": null,
            "flex_flow": null,
            "grid_area": null,
            "grid_auto_columns": null,
            "grid_auto_flow": null,
            "grid_auto_rows": null,
            "grid_column": null,
            "grid_gap": null,
            "grid_row": null,
            "grid_template_areas": null,
            "grid_template_columns": null,
            "grid_template_rows": null,
            "height": null,
            "justify_content": null,
            "justify_items": null,
            "left": null,
            "margin": null,
            "max_height": null,
            "max_width": null,
            "min_height": null,
            "min_width": null,
            "object_fit": null,
            "object_position": null,
            "order": null,
            "overflow": null,
            "overflow_x": null,
            "overflow_y": null,
            "padding": null,
            "right": null,
            "top": null,
            "visibility": null,
            "width": null
          }
        },
        "8e1b3e835ca24fb28677e454ea8aa7f9": {
          "model_module": "@jupyter-widgets/controls",
          "model_name": "DescriptionStyleModel",
          "model_module_version": "1.5.0",
          "state": {
            "_model_module": "@jupyter-widgets/controls",
            "_model_module_version": "1.5.0",
            "_model_name": "DescriptionStyleModel",
            "_view_count": null,
            "_view_module": "@jupyter-widgets/base",
            "_view_module_version": "1.2.0",
            "_view_name": "StyleView",
            "description_width": ""
          }
        },
        "c721caa307554abda3e0eb64c7e00b4c": {
          "model_module": "@jupyter-widgets/controls",
          "model_name": "HBoxModel",
          "model_module_version": "1.5.0",
          "state": {
            "_dom_classes": [],
            "_model_module": "@jupyter-widgets/controls",
            "_model_module_version": "1.5.0",
            "_model_name": "HBoxModel",
            "_view_count": null,
            "_view_module": "@jupyter-widgets/controls",
            "_view_module_version": "1.5.0",
            "_view_name": "HBoxView",
            "box_style": "",
            "children": [
              "IPY_MODEL_2bb0620afbca48a48d39bc54e3922734",
              "IPY_MODEL_7ffd3608dda4463baa9df33747252a5f",
              "IPY_MODEL_7acadd667b0c45b5aa41828873ae080a"
            ],
            "layout": "IPY_MODEL_07e731b131124b54b721f959da2d4584"
          }
        },
        "2bb0620afbca48a48d39bc54e3922734": {
          "model_module": "@jupyter-widgets/controls",
          "model_name": "HTMLModel",
          "model_module_version": "1.5.0",
          "state": {
            "_dom_classes": [],
            "_model_module": "@jupyter-widgets/controls",
            "_model_module_version": "1.5.0",
            "_model_name": "HTMLModel",
            "_view_count": null,
            "_view_module": "@jupyter-widgets/controls",
            "_view_module_version": "1.5.0",
            "_view_name": "HTMLView",
            "description": "",
            "description_tooltip": null,
            "layout": "IPY_MODEL_69613cc4ee9648efadb48827ad9d96fa",
            "placeholder": "​",
            "style": "IPY_MODEL_5077ca87674a4f3fbe983ce014f5f51d",
            "value": "100%"
          }
        },
        "7ffd3608dda4463baa9df33747252a5f": {
          "model_module": "@jupyter-widgets/controls",
          "model_name": "FloatProgressModel",
          "model_module_version": "1.5.0",
          "state": {
            "_dom_classes": [],
            "_model_module": "@jupyter-widgets/controls",
            "_model_module_version": "1.5.0",
            "_model_name": "FloatProgressModel",
            "_view_count": null,
            "_view_module": "@jupyter-widgets/controls",
            "_view_module_version": "1.5.0",
            "_view_name": "ProgressView",
            "bar_style": "success",
            "description": "",
            "description_tooltip": null,
            "layout": "IPY_MODEL_d0f8ed81440d4470b87f44c03ccad180",
            "max": 28881,
            "min": 0,
            "orientation": "horizontal",
            "style": "IPY_MODEL_5b29e49ea433461bbe6a59a8fbcb66ad",
            "value": 28881
          }
        },
        "7acadd667b0c45b5aa41828873ae080a": {
          "model_module": "@jupyter-widgets/controls",
          "model_name": "HTMLModel",
          "model_module_version": "1.5.0",
          "state": {
            "_dom_classes": [],
            "_model_module": "@jupyter-widgets/controls",
            "_model_module_version": "1.5.0",
            "_model_name": "HTMLModel",
            "_view_count": null,
            "_view_module": "@jupyter-widgets/controls",
            "_view_module_version": "1.5.0",
            "_view_name": "HTMLView",
            "description": "",
            "description_tooltip": null,
            "layout": "IPY_MODEL_4d9c0675011e4662bf698ec8e989290c",
            "placeholder": "​",
            "style": "IPY_MODEL_2e7f50d6e4ad451b8035f99f392d1de3",
            "value": " 28881/28881 [00:00&lt;00:00, 1360601.29it/s]"
          }
        },
        "07e731b131124b54b721f959da2d4584": {
          "model_module": "@jupyter-widgets/base",
          "model_name": "LayoutModel",
          "model_module_version": "1.2.0",
          "state": {
            "_model_module": "@jupyter-widgets/base",
            "_model_module_version": "1.2.0",
            "_model_name": "LayoutModel",
            "_view_count": null,
            "_view_module": "@jupyter-widgets/base",
            "_view_module_version": "1.2.0",
            "_view_name": "LayoutView",
            "align_content": null,
            "align_items": null,
            "align_self": null,
            "border": null,
            "bottom": null,
            "display": null,
            "flex": null,
            "flex_flow": null,
            "grid_area": null,
            "grid_auto_columns": null,
            "grid_auto_flow": null,
            "grid_auto_rows": null,
            "grid_column": null,
            "grid_gap": null,
            "grid_row": null,
            "grid_template_areas": null,
            "grid_template_columns": null,
            "grid_template_rows": null,
            "height": null,
            "justify_content": null,
            "justify_items": null,
            "left": null,
            "margin": null,
            "max_height": null,
            "max_width": null,
            "min_height": null,
            "min_width": null,
            "object_fit": null,
            "object_position": null,
            "order": null,
            "overflow": null,
            "overflow_x": null,
            "overflow_y": null,
            "padding": null,
            "right": null,
            "top": null,
            "visibility": null,
            "width": null
          }
        },
        "69613cc4ee9648efadb48827ad9d96fa": {
          "model_module": "@jupyter-widgets/base",
          "model_name": "LayoutModel",
          "model_module_version": "1.2.0",
          "state": {
            "_model_module": "@jupyter-widgets/base",
            "_model_module_version": "1.2.0",
            "_model_name": "LayoutModel",
            "_view_count": null,
            "_view_module": "@jupyter-widgets/base",
            "_view_module_version": "1.2.0",
            "_view_name": "LayoutView",
            "align_content": null,
            "align_items": null,
            "align_self": null,
            "border": null,
            "bottom": null,
            "display": null,
            "flex": null,
            "flex_flow": null,
            "grid_area": null,
            "grid_auto_columns": null,
            "grid_auto_flow": null,
            "grid_auto_rows": null,
            "grid_column": null,
            "grid_gap": null,
            "grid_row": null,
            "grid_template_areas": null,
            "grid_template_columns": null,
            "grid_template_rows": null,
            "height": null,
            "justify_content": null,
            "justify_items": null,
            "left": null,
            "margin": null,
            "max_height": null,
            "max_width": null,
            "min_height": null,
            "min_width": null,
            "object_fit": null,
            "object_position": null,
            "order": null,
            "overflow": null,
            "overflow_x": null,
            "overflow_y": null,
            "padding": null,
            "right": null,
            "top": null,
            "visibility": null,
            "width": null
          }
        },
        "5077ca87674a4f3fbe983ce014f5f51d": {
          "model_module": "@jupyter-widgets/controls",
          "model_name": "DescriptionStyleModel",
          "model_module_version": "1.5.0",
          "state": {
            "_model_module": "@jupyter-widgets/controls",
            "_model_module_version": "1.5.0",
            "_model_name": "DescriptionStyleModel",
            "_view_count": null,
            "_view_module": "@jupyter-widgets/base",
            "_view_module_version": "1.2.0",
            "_view_name": "StyleView",
            "description_width": ""
          }
        },
        "d0f8ed81440d4470b87f44c03ccad180": {
          "model_module": "@jupyter-widgets/base",
          "model_name": "LayoutModel",
          "model_module_version": "1.2.0",
          "state": {
            "_model_module": "@jupyter-widgets/base",
            "_model_module_version": "1.2.0",
            "_model_name": "LayoutModel",
            "_view_count": null,
            "_view_module": "@jupyter-widgets/base",
            "_view_module_version": "1.2.0",
            "_view_name": "LayoutView",
            "align_content": null,
            "align_items": null,
            "align_self": null,
            "border": null,
            "bottom": null,
            "display": null,
            "flex": null,
            "flex_flow": null,
            "grid_area": null,
            "grid_auto_columns": null,
            "grid_auto_flow": null,
            "grid_auto_rows": null,
            "grid_column": null,
            "grid_gap": null,
            "grid_row": null,
            "grid_template_areas": null,
            "grid_template_columns": null,
            "grid_template_rows": null,
            "height": null,
            "justify_content": null,
            "justify_items": null,
            "left": null,
            "margin": null,
            "max_height": null,
            "max_width": null,
            "min_height": null,
            "min_width": null,
            "object_fit": null,
            "object_position": null,
            "order": null,
            "overflow": null,
            "overflow_x": null,
            "overflow_y": null,
            "padding": null,
            "right": null,
            "top": null,
            "visibility": null,
            "width": null
          }
        },
        "5b29e49ea433461bbe6a59a8fbcb66ad": {
          "model_module": "@jupyter-widgets/controls",
          "model_name": "ProgressStyleModel",
          "model_module_version": "1.5.0",
          "state": {
            "_model_module": "@jupyter-widgets/controls",
            "_model_module_version": "1.5.0",
            "_model_name": "ProgressStyleModel",
            "_view_count": null,
            "_view_module": "@jupyter-widgets/base",
            "_view_module_version": "1.2.0",
            "_view_name": "StyleView",
            "bar_color": null,
            "description_width": ""
          }
        },
        "4d9c0675011e4662bf698ec8e989290c": {
          "model_module": "@jupyter-widgets/base",
          "model_name": "LayoutModel",
          "model_module_version": "1.2.0",
          "state": {
            "_model_module": "@jupyter-widgets/base",
            "_model_module_version": "1.2.0",
            "_model_name": "LayoutModel",
            "_view_count": null,
            "_view_module": "@jupyter-widgets/base",
            "_view_module_version": "1.2.0",
            "_view_name": "LayoutView",
            "align_content": null,
            "align_items": null,
            "align_self": null,
            "border": null,
            "bottom": null,
            "display": null,
            "flex": null,
            "flex_flow": null,
            "grid_area": null,
            "grid_auto_columns": null,
            "grid_auto_flow": null,
            "grid_auto_rows": null,
            "grid_column": null,
            "grid_gap": null,
            "grid_row": null,
            "grid_template_areas": null,
            "grid_template_columns": null,
            "grid_template_rows": null,
            "height": null,
            "justify_content": null,
            "justify_items": null,
            "left": null,
            "margin": null,
            "max_height": null,
            "max_width": null,
            "min_height": null,
            "min_width": null,
            "object_fit": null,
            "object_position": null,
            "order": null,
            "overflow": null,
            "overflow_x": null,
            "overflow_y": null,
            "padding": null,
            "right": null,
            "top": null,
            "visibility": null,
            "width": null
          }
        },
        "2e7f50d6e4ad451b8035f99f392d1de3": {
          "model_module": "@jupyter-widgets/controls",
          "model_name": "DescriptionStyleModel",
          "model_module_version": "1.5.0",
          "state": {
            "_model_module": "@jupyter-widgets/controls",
            "_model_module_version": "1.5.0",
            "_model_name": "DescriptionStyleModel",
            "_view_count": null,
            "_view_module": "@jupyter-widgets/base",
            "_view_module_version": "1.2.0",
            "_view_name": "StyleView",
            "description_width": ""
          }
        },
        "8df8e13088ac47af85b067381961096d": {
          "model_module": "@jupyter-widgets/controls",
          "model_name": "HBoxModel",
          "model_module_version": "1.5.0",
          "state": {
            "_dom_classes": [],
            "_model_module": "@jupyter-widgets/controls",
            "_model_module_version": "1.5.0",
            "_model_name": "HBoxModel",
            "_view_count": null,
            "_view_module": "@jupyter-widgets/controls",
            "_view_module_version": "1.5.0",
            "_view_name": "HBoxView",
            "box_style": "",
            "children": [
              "IPY_MODEL_bac1eac8ac764cdd85fe5dfca382632e",
              "IPY_MODEL_68d7333e62794ca788cfdee3837ee7fc",
              "IPY_MODEL_54ffda63e6114cd68001cff54efcad84"
            ],
            "layout": "IPY_MODEL_6fd317834ee349f087405ffa1668baa1"
          }
        },
        "bac1eac8ac764cdd85fe5dfca382632e": {
          "model_module": "@jupyter-widgets/controls",
          "model_name": "HTMLModel",
          "model_module_version": "1.5.0",
          "state": {
            "_dom_classes": [],
            "_model_module": "@jupyter-widgets/controls",
            "_model_module_version": "1.5.0",
            "_model_name": "HTMLModel",
            "_view_count": null,
            "_view_module": "@jupyter-widgets/controls",
            "_view_module_version": "1.5.0",
            "_view_name": "HTMLView",
            "description": "",
            "description_tooltip": null,
            "layout": "IPY_MODEL_d46cdf3dde5c4dab8257edda5814a176",
            "placeholder": "​",
            "style": "IPY_MODEL_e4812daae6c14861b9ca4635f0c208a2",
            "value": "100%"
          }
        },
        "68d7333e62794ca788cfdee3837ee7fc": {
          "model_module": "@jupyter-widgets/controls",
          "model_name": "FloatProgressModel",
          "model_module_version": "1.5.0",
          "state": {
            "_dom_classes": [],
            "_model_module": "@jupyter-widgets/controls",
            "_model_module_version": "1.5.0",
            "_model_name": "FloatProgressModel",
            "_view_count": null,
            "_view_module": "@jupyter-widgets/controls",
            "_view_module_version": "1.5.0",
            "_view_name": "ProgressView",
            "bar_style": "success",
            "description": "",
            "description_tooltip": null,
            "layout": "IPY_MODEL_6cd306531fe74718ad4abe345a327db6",
            "max": 1648877,
            "min": 0,
            "orientation": "horizontal",
            "style": "IPY_MODEL_50c7cacfcd58414a84198c27c185f278",
            "value": 1648877
          }
        },
        "54ffda63e6114cd68001cff54efcad84": {
          "model_module": "@jupyter-widgets/controls",
          "model_name": "HTMLModel",
          "model_module_version": "1.5.0",
          "state": {
            "_dom_classes": [],
            "_model_module": "@jupyter-widgets/controls",
            "_model_module_version": "1.5.0",
            "_model_name": "HTMLModel",
            "_view_count": null,
            "_view_module": "@jupyter-widgets/controls",
            "_view_module_version": "1.5.0",
            "_view_name": "HTMLView",
            "description": "",
            "description_tooltip": null,
            "layout": "IPY_MODEL_93c0adc8c6d34b9db52297968218819e",
            "placeholder": "​",
            "style": "IPY_MODEL_1ecb8a9e794d46f3ba8c0cfd943b0ea5",
            "value": " 1648877/1648877 [00:00&lt;00:00, 40059843.93it/s]"
          }
        },
        "6fd317834ee349f087405ffa1668baa1": {
          "model_module": "@jupyter-widgets/base",
          "model_name": "LayoutModel",
          "model_module_version": "1.2.0",
          "state": {
            "_model_module": "@jupyter-widgets/base",
            "_model_module_version": "1.2.0",
            "_model_name": "LayoutModel",
            "_view_count": null,
            "_view_module": "@jupyter-widgets/base",
            "_view_module_version": "1.2.0",
            "_view_name": "LayoutView",
            "align_content": null,
            "align_items": null,
            "align_self": null,
            "border": null,
            "bottom": null,
            "display": null,
            "flex": null,
            "flex_flow": null,
            "grid_area": null,
            "grid_auto_columns": null,
            "grid_auto_flow": null,
            "grid_auto_rows": null,
            "grid_column": null,
            "grid_gap": null,
            "grid_row": null,
            "grid_template_areas": null,
            "grid_template_columns": null,
            "grid_template_rows": null,
            "height": null,
            "justify_content": null,
            "justify_items": null,
            "left": null,
            "margin": null,
            "max_height": null,
            "max_width": null,
            "min_height": null,
            "min_width": null,
            "object_fit": null,
            "object_position": null,
            "order": null,
            "overflow": null,
            "overflow_x": null,
            "overflow_y": null,
            "padding": null,
            "right": null,
            "top": null,
            "visibility": null,
            "width": null
          }
        },
        "d46cdf3dde5c4dab8257edda5814a176": {
          "model_module": "@jupyter-widgets/base",
          "model_name": "LayoutModel",
          "model_module_version": "1.2.0",
          "state": {
            "_model_module": "@jupyter-widgets/base",
            "_model_module_version": "1.2.0",
            "_model_name": "LayoutModel",
            "_view_count": null,
            "_view_module": "@jupyter-widgets/base",
            "_view_module_version": "1.2.0",
            "_view_name": "LayoutView",
            "align_content": null,
            "align_items": null,
            "align_self": null,
            "border": null,
            "bottom": null,
            "display": null,
            "flex": null,
            "flex_flow": null,
            "grid_area": null,
            "grid_auto_columns": null,
            "grid_auto_flow": null,
            "grid_auto_rows": null,
            "grid_column": null,
            "grid_gap": null,
            "grid_row": null,
            "grid_template_areas": null,
            "grid_template_columns": null,
            "grid_template_rows": null,
            "height": null,
            "justify_content": null,
            "justify_items": null,
            "left": null,
            "margin": null,
            "max_height": null,
            "max_width": null,
            "min_height": null,
            "min_width": null,
            "object_fit": null,
            "object_position": null,
            "order": null,
            "overflow": null,
            "overflow_x": null,
            "overflow_y": null,
            "padding": null,
            "right": null,
            "top": null,
            "visibility": null,
            "width": null
          }
        },
        "e4812daae6c14861b9ca4635f0c208a2": {
          "model_module": "@jupyter-widgets/controls",
          "model_name": "DescriptionStyleModel",
          "model_module_version": "1.5.0",
          "state": {
            "_model_module": "@jupyter-widgets/controls",
            "_model_module_version": "1.5.0",
            "_model_name": "DescriptionStyleModel",
            "_view_count": null,
            "_view_module": "@jupyter-widgets/base",
            "_view_module_version": "1.2.0",
            "_view_name": "StyleView",
            "description_width": ""
          }
        },
        "6cd306531fe74718ad4abe345a327db6": {
          "model_module": "@jupyter-widgets/base",
          "model_name": "LayoutModel",
          "model_module_version": "1.2.0",
          "state": {
            "_model_module": "@jupyter-widgets/base",
            "_model_module_version": "1.2.0",
            "_model_name": "LayoutModel",
            "_view_count": null,
            "_view_module": "@jupyter-widgets/base",
            "_view_module_version": "1.2.0",
            "_view_name": "LayoutView",
            "align_content": null,
            "align_items": null,
            "align_self": null,
            "border": null,
            "bottom": null,
            "display": null,
            "flex": null,
            "flex_flow": null,
            "grid_area": null,
            "grid_auto_columns": null,
            "grid_auto_flow": null,
            "grid_auto_rows": null,
            "grid_column": null,
            "grid_gap": null,
            "grid_row": null,
            "grid_template_areas": null,
            "grid_template_columns": null,
            "grid_template_rows": null,
            "height": null,
            "justify_content": null,
            "justify_items": null,
            "left": null,
            "margin": null,
            "max_height": null,
            "max_width": null,
            "min_height": null,
            "min_width": null,
            "object_fit": null,
            "object_position": null,
            "order": null,
            "overflow": null,
            "overflow_x": null,
            "overflow_y": null,
            "padding": null,
            "right": null,
            "top": null,
            "visibility": null,
            "width": null
          }
        },
        "50c7cacfcd58414a84198c27c185f278": {
          "model_module": "@jupyter-widgets/controls",
          "model_name": "ProgressStyleModel",
          "model_module_version": "1.5.0",
          "state": {
            "_model_module": "@jupyter-widgets/controls",
            "_model_module_version": "1.5.0",
            "_model_name": "ProgressStyleModel",
            "_view_count": null,
            "_view_module": "@jupyter-widgets/base",
            "_view_module_version": "1.2.0",
            "_view_name": "StyleView",
            "bar_color": null,
            "description_width": ""
          }
        },
        "93c0adc8c6d34b9db52297968218819e": {
          "model_module": "@jupyter-widgets/base",
          "model_name": "LayoutModel",
          "model_module_version": "1.2.0",
          "state": {
            "_model_module": "@jupyter-widgets/base",
            "_model_module_version": "1.2.0",
            "_model_name": "LayoutModel",
            "_view_count": null,
            "_view_module": "@jupyter-widgets/base",
            "_view_module_version": "1.2.0",
            "_view_name": "LayoutView",
            "align_content": null,
            "align_items": null,
            "align_self": null,
            "border": null,
            "bottom": null,
            "display": null,
            "flex": null,
            "flex_flow": null,
            "grid_area": null,
            "grid_auto_columns": null,
            "grid_auto_flow": null,
            "grid_auto_rows": null,
            "grid_column": null,
            "grid_gap": null,
            "grid_row": null,
            "grid_template_areas": null,
            "grid_template_columns": null,
            "grid_template_rows": null,
            "height": null,
            "justify_content": null,
            "justify_items": null,
            "left": null,
            "margin": null,
            "max_height": null,
            "max_width": null,
            "min_height": null,
            "min_width": null,
            "object_fit": null,
            "object_position": null,
            "order": null,
            "overflow": null,
            "overflow_x": null,
            "overflow_y": null,
            "padding": null,
            "right": null,
            "top": null,
            "visibility": null,
            "width": null
          }
        },
        "1ecb8a9e794d46f3ba8c0cfd943b0ea5": {
          "model_module": "@jupyter-widgets/controls",
          "model_name": "DescriptionStyleModel",
          "model_module_version": "1.5.0",
          "state": {
            "_model_module": "@jupyter-widgets/controls",
            "_model_module_version": "1.5.0",
            "_model_name": "DescriptionStyleModel",
            "_view_count": null,
            "_view_module": "@jupyter-widgets/base",
            "_view_module_version": "1.2.0",
            "_view_name": "StyleView",
            "description_width": ""
          }
        },
        "e0d5c0c7214e4f67937e0f8fc2d7355f": {
          "model_module": "@jupyter-widgets/controls",
          "model_name": "HBoxModel",
          "model_module_version": "1.5.0",
          "state": {
            "_dom_classes": [],
            "_model_module": "@jupyter-widgets/controls",
            "_model_module_version": "1.5.0",
            "_model_name": "HBoxModel",
            "_view_count": null,
            "_view_module": "@jupyter-widgets/controls",
            "_view_module_version": "1.5.0",
            "_view_name": "HBoxView",
            "box_style": "",
            "children": [
              "IPY_MODEL_f90f42cab85b4849bfcc52f3027c8cd1",
              "IPY_MODEL_7b2523938ab34c5ca144fedd30d46a25",
              "IPY_MODEL_4f95970342b342acbf1d23c9fc070883"
            ],
            "layout": "IPY_MODEL_ae3316db6ff947d1b174d563beda02d1"
          }
        },
        "f90f42cab85b4849bfcc52f3027c8cd1": {
          "model_module": "@jupyter-widgets/controls",
          "model_name": "HTMLModel",
          "model_module_version": "1.5.0",
          "state": {
            "_dom_classes": [],
            "_model_module": "@jupyter-widgets/controls",
            "_model_module_version": "1.5.0",
            "_model_name": "HTMLModel",
            "_view_count": null,
            "_view_module": "@jupyter-widgets/controls",
            "_view_module_version": "1.5.0",
            "_view_name": "HTMLView",
            "description": "",
            "description_tooltip": null,
            "layout": "IPY_MODEL_52ed13705ea14acabc3eb00c34588b36",
            "placeholder": "​",
            "style": "IPY_MODEL_a717a45d5feb4403ad4d574f3b6cd226",
            "value": "100%"
          }
        },
        "7b2523938ab34c5ca144fedd30d46a25": {
          "model_module": "@jupyter-widgets/controls",
          "model_name": "FloatProgressModel",
          "model_module_version": "1.5.0",
          "state": {
            "_dom_classes": [],
            "_model_module": "@jupyter-widgets/controls",
            "_model_module_version": "1.5.0",
            "_model_name": "FloatProgressModel",
            "_view_count": null,
            "_view_module": "@jupyter-widgets/controls",
            "_view_module_version": "1.5.0",
            "_view_name": "ProgressView",
            "bar_style": "success",
            "description": "",
            "description_tooltip": null,
            "layout": "IPY_MODEL_c3a044139e434f00991154bd3cb04eb2",
            "max": 4542,
            "min": 0,
            "orientation": "horizontal",
            "style": "IPY_MODEL_94c2a38d3ef34050b0b0a88e75b1f884",
            "value": 4542
          }
        },
        "4f95970342b342acbf1d23c9fc070883": {
          "model_module": "@jupyter-widgets/controls",
          "model_name": "HTMLModel",
          "model_module_version": "1.5.0",
          "state": {
            "_dom_classes": [],
            "_model_module": "@jupyter-widgets/controls",
            "_model_module_version": "1.5.0",
            "_model_name": "HTMLModel",
            "_view_count": null,
            "_view_module": "@jupyter-widgets/controls",
            "_view_module_version": "1.5.0",
            "_view_name": "HTMLView",
            "description": "",
            "description_tooltip": null,
            "layout": "IPY_MODEL_d4ee04982bcf4505881d8300ec9c2e94",
            "placeholder": "​",
            "style": "IPY_MODEL_96e862438c6c4262aba6a7c5291ff416",
            "value": " 4542/4542 [00:00&lt;00:00, 208202.50it/s]"
          }
        },
        "ae3316db6ff947d1b174d563beda02d1": {
          "model_module": "@jupyter-widgets/base",
          "model_name": "LayoutModel",
          "model_module_version": "1.2.0",
          "state": {
            "_model_module": "@jupyter-widgets/base",
            "_model_module_version": "1.2.0",
            "_model_name": "LayoutModel",
            "_view_count": null,
            "_view_module": "@jupyter-widgets/base",
            "_view_module_version": "1.2.0",
            "_view_name": "LayoutView",
            "align_content": null,
            "align_items": null,
            "align_self": null,
            "border": null,
            "bottom": null,
            "display": null,
            "flex": null,
            "flex_flow": null,
            "grid_area": null,
            "grid_auto_columns": null,
            "grid_auto_flow": null,
            "grid_auto_rows": null,
            "grid_column": null,
            "grid_gap": null,
            "grid_row": null,
            "grid_template_areas": null,
            "grid_template_columns": null,
            "grid_template_rows": null,
            "height": null,
            "justify_content": null,
            "justify_items": null,
            "left": null,
            "margin": null,
            "max_height": null,
            "max_width": null,
            "min_height": null,
            "min_width": null,
            "object_fit": null,
            "object_position": null,
            "order": null,
            "overflow": null,
            "overflow_x": null,
            "overflow_y": null,
            "padding": null,
            "right": null,
            "top": null,
            "visibility": null,
            "width": null
          }
        },
        "52ed13705ea14acabc3eb00c34588b36": {
          "model_module": "@jupyter-widgets/base",
          "model_name": "LayoutModel",
          "model_module_version": "1.2.0",
          "state": {
            "_model_module": "@jupyter-widgets/base",
            "_model_module_version": "1.2.0",
            "_model_name": "LayoutModel",
            "_view_count": null,
            "_view_module": "@jupyter-widgets/base",
            "_view_module_version": "1.2.0",
            "_view_name": "LayoutView",
            "align_content": null,
            "align_items": null,
            "align_self": null,
            "border": null,
            "bottom": null,
            "display": null,
            "flex": null,
            "flex_flow": null,
            "grid_area": null,
            "grid_auto_columns": null,
            "grid_auto_flow": null,
            "grid_auto_rows": null,
            "grid_column": null,
            "grid_gap": null,
            "grid_row": null,
            "grid_template_areas": null,
            "grid_template_columns": null,
            "grid_template_rows": null,
            "height": null,
            "justify_content": null,
            "justify_items": null,
            "left": null,
            "margin": null,
            "max_height": null,
            "max_width": null,
            "min_height": null,
            "min_width": null,
            "object_fit": null,
            "object_position": null,
            "order": null,
            "overflow": null,
            "overflow_x": null,
            "overflow_y": null,
            "padding": null,
            "right": null,
            "top": null,
            "visibility": null,
            "width": null
          }
        },
        "a717a45d5feb4403ad4d574f3b6cd226": {
          "model_module": "@jupyter-widgets/controls",
          "model_name": "DescriptionStyleModel",
          "model_module_version": "1.5.0",
          "state": {
            "_model_module": "@jupyter-widgets/controls",
            "_model_module_version": "1.5.0",
            "_model_name": "DescriptionStyleModel",
            "_view_count": null,
            "_view_module": "@jupyter-widgets/base",
            "_view_module_version": "1.2.0",
            "_view_name": "StyleView",
            "description_width": ""
          }
        },
        "c3a044139e434f00991154bd3cb04eb2": {
          "model_module": "@jupyter-widgets/base",
          "model_name": "LayoutModel",
          "model_module_version": "1.2.0",
          "state": {
            "_model_module": "@jupyter-widgets/base",
            "_model_module_version": "1.2.0",
            "_model_name": "LayoutModel",
            "_view_count": null,
            "_view_module": "@jupyter-widgets/base",
            "_view_module_version": "1.2.0",
            "_view_name": "LayoutView",
            "align_content": null,
            "align_items": null,
            "align_self": null,
            "border": null,
            "bottom": null,
            "display": null,
            "flex": null,
            "flex_flow": null,
            "grid_area": null,
            "grid_auto_columns": null,
            "grid_auto_flow": null,
            "grid_auto_rows": null,
            "grid_column": null,
            "grid_gap": null,
            "grid_row": null,
            "grid_template_areas": null,
            "grid_template_columns": null,
            "grid_template_rows": null,
            "height": null,
            "justify_content": null,
            "justify_items": null,
            "left": null,
            "margin": null,
            "max_height": null,
            "max_width": null,
            "min_height": null,
            "min_width": null,
            "object_fit": null,
            "object_position": null,
            "order": null,
            "overflow": null,
            "overflow_x": null,
            "overflow_y": null,
            "padding": null,
            "right": null,
            "top": null,
            "visibility": null,
            "width": null
          }
        },
        "94c2a38d3ef34050b0b0a88e75b1f884": {
          "model_module": "@jupyter-widgets/controls",
          "model_name": "ProgressStyleModel",
          "model_module_version": "1.5.0",
          "state": {
            "_model_module": "@jupyter-widgets/controls",
            "_model_module_version": "1.5.0",
            "_model_name": "ProgressStyleModel",
            "_view_count": null,
            "_view_module": "@jupyter-widgets/base",
            "_view_module_version": "1.2.0",
            "_view_name": "StyleView",
            "bar_color": null,
            "description_width": ""
          }
        },
        "d4ee04982bcf4505881d8300ec9c2e94": {
          "model_module": "@jupyter-widgets/base",
          "model_name": "LayoutModel",
          "model_module_version": "1.2.0",
          "state": {
            "_model_module": "@jupyter-widgets/base",
            "_model_module_version": "1.2.0",
            "_model_name": "LayoutModel",
            "_view_count": null,
            "_view_module": "@jupyter-widgets/base",
            "_view_module_version": "1.2.0",
            "_view_name": "LayoutView",
            "align_content": null,
            "align_items": null,
            "align_self": null,
            "border": null,
            "bottom": null,
            "display": null,
            "flex": null,
            "flex_flow": null,
            "grid_area": null,
            "grid_auto_columns": null,
            "grid_auto_flow": null,
            "grid_auto_rows": null,
            "grid_column": null,
            "grid_gap": null,
            "grid_row": null,
            "grid_template_areas": null,
            "grid_template_columns": null,
            "grid_template_rows": null,
            "height": null,
            "justify_content": null,
            "justify_items": null,
            "left": null,
            "margin": null,
            "max_height": null,
            "max_width": null,
            "min_height": null,
            "min_width": null,
            "object_fit": null,
            "object_position": null,
            "order": null,
            "overflow": null,
            "overflow_x": null,
            "overflow_y": null,
            "padding": null,
            "right": null,
            "top": null,
            "visibility": null,
            "width": null
          }
        },
        "96e862438c6c4262aba6a7c5291ff416": {
          "model_module": "@jupyter-widgets/controls",
          "model_name": "DescriptionStyleModel",
          "model_module_version": "1.5.0",
          "state": {
            "_model_module": "@jupyter-widgets/controls",
            "_model_module_version": "1.5.0",
            "_model_name": "DescriptionStyleModel",
            "_view_count": null,
            "_view_module": "@jupyter-widgets/base",
            "_view_module_version": "1.2.0",
            "_view_name": "StyleView",
            "description_width": ""
          }
        }
      }
    }
  },
  "nbformat": 4,
  "nbformat_minor": 5
}