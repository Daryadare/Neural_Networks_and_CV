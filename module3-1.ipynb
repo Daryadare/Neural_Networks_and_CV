{
 "cells": [
  {
   "cell_type": "code",
   "execution_count": 14,
   "id": "8531ef1d",
   "metadata": {},
   "outputs": [],
   "source": [
    "import torch\n",
    "import random\n",
    "import numpy as np\n",
    "import pandas as pd\n",
    "import matplotlib.pyplot as plt"
   ]
  },
  {
   "cell_type": "markdown",
   "id": "5f96bfd3",
   "metadata": {},
   "source": [
    "## Task"
   ]
  },
  {
   "cell_type": "code",
   "execution_count": 16,
   "id": "cce701d0",
   "metadata": {},
   "outputs": [
    {
     "name": "stdout",
     "output_type": "stream",
     "text": [
      "7\n"
     ]
    }
   ],
   "source": [
    "import random\n",
    "i = 0\n",
    "a = -1\n",
    "while a == -1:\n",
    "    random.seed(i)\n",
    "    if random.randint(0, 10) == 5:\n",
    "        a = i\n",
    "    i += 1\n",
    "\n",
    "print(a)"
   ]
  },
  {
   "cell_type": "code",
   "execution_count": null,
   "id": "35fa29ce",
   "metadata": {},
   "outputs": [],
   "source": []
  },
  {
   "cell_type": "markdown",
   "id": "d9c5b933",
   "metadata": {},
   "source": [
    "## NN: classification"
   ]
  },
  {
   "cell_type": "code",
   "execution_count": 2,
   "id": "39d28a8c",
   "metadata": {},
   "outputs": [],
   "source": [
    "# 0 - номер рандомной последовательности\n",
    "\n",
    "random.seed(0)\n",
    "np.random.seed(0)\n",
    "torch.manual_seed(0)\n",
    "torch.cuda.manual_seed(0)\n",
    "torch.backends.cudnn.deterministic = True"
   ]
  },
  {
   "cell_type": "code",
   "execution_count": 3,
   "id": "6fdeab51",
   "metadata": {},
   "outputs": [
    {
     "data": {
      "text/plain": [
       "(178, 13)"
      ]
     },
     "execution_count": 3,
     "metadata": {},
     "output_type": "execute_result"
    }
   ],
   "source": [
    "import sklearn.datasets\n",
    "wine = sklearn.datasets.load_wine()\n",
    "wine.data.shape"
   ]
  },
  {
   "cell_type": "code",
   "execution_count": 4,
   "id": "d13a6444",
   "metadata": {},
   "outputs": [
    {
     "data": {
      "text/plain": [
       "data             [[14.23, 1.71, 2.43, 15.6, 127.0, 2.8, 3.06, 0...\n",
       "target           [0, 0, 0, 0, 0, 0, 0, 0, 0, 0, 0, 0, 0, 0, 0, ...\n",
       "frame                                                         None\n",
       "target_names                           [class_0, class_1, class_2]\n",
       "DESCR            .. _wine_dataset:\\n\\nWine recognition dataset\\...\n",
       "feature_names    [alcohol, malic_acid, ash, alcalinity_of_ash, ...\n",
       "dtype: object"
      ]
     },
     "execution_count": 4,
     "metadata": {},
     "output_type": "execute_result"
    }
   ],
   "source": [
    "pd.Series(wine) "
   ]
  },
  {
   "cell_type": "code",
   "execution_count": 5,
   "id": "576a3fac",
   "metadata": {},
   "outputs": [],
   "source": [
    "from sklearn.model_selection import train_test_split\n",
    "\n",
    "X_train, X_test, y_train, y_test = train_test_split(\n",
    "    wine.data[:, :2], \n",
    "    wine.target, \n",
    "    test_size=0.3, \n",
    "    shuffle=True)\n",
    "\n",
    "X_train = torch.FloatTensor(X_train)\n",
    "X_test = torch.FloatTensor(X_test)\n",
    "y_train = torch.LongTensor(y_train)\n",
    "y_test = torch.LongTensor(y_test)"
   ]
  },
  {
   "cell_type": "code",
   "execution_count": 21,
   "id": "b0a118da",
   "metadata": {},
   "outputs": [
    {
     "data": {
      "text/plain": [
       "array([[14.23,  1.71],\n",
       "       [13.2 ,  1.78],\n",
       "       [13.16,  2.36],\n",
       "       [14.37,  1.95],\n",
       "       [13.24,  2.59],\n",
       "       [14.2 ,  1.76],\n",
       "       [14.39,  1.87],\n",
       "       [14.06,  2.15],\n",
       "       [14.83,  1.64],\n",
       "       [13.86,  1.35],\n",
       "       [14.1 ,  2.16],\n",
       "       [14.12,  1.48],\n",
       "       [13.75,  1.73],\n",
       "       [14.75,  1.73],\n",
       "       [14.38,  1.87],\n",
       "       [13.63,  1.81],\n",
       "       [14.3 ,  1.92],\n",
       "       [13.83,  1.57],\n",
       "       [14.19,  1.59],\n",
       "       [13.64,  3.1 ],\n",
       "       [14.06,  1.63],\n",
       "       [12.93,  3.8 ],\n",
       "       [13.71,  1.86],\n",
       "       [12.85,  1.6 ],\n",
       "       [13.5 ,  1.81],\n",
       "       [13.05,  2.05],\n",
       "       [13.39,  1.77],\n",
       "       [13.3 ,  1.72],\n",
       "       [13.87,  1.9 ],\n",
       "       [14.02,  1.68],\n",
       "       [13.73,  1.5 ],\n",
       "       [13.58,  1.66],\n",
       "       [13.68,  1.83],\n",
       "       [13.76,  1.53],\n",
       "       [13.51,  1.8 ],\n",
       "       [13.48,  1.81],\n",
       "       [13.28,  1.64],\n",
       "       [13.05,  1.65],\n",
       "       [13.07,  1.5 ],\n",
       "       [14.22,  3.99],\n",
       "       [13.56,  1.71],\n",
       "       [13.41,  3.84],\n",
       "       [13.88,  1.89],\n",
       "       [13.24,  3.98],\n",
       "       [13.05,  1.77],\n",
       "       [14.21,  4.04],\n",
       "       [14.38,  3.59],\n",
       "       [13.9 ,  1.68],\n",
       "       [14.1 ,  2.02],\n",
       "       [13.94,  1.73],\n",
       "       [13.05,  1.73],\n",
       "       [13.83,  1.65],\n",
       "       [13.82,  1.75],\n",
       "       [13.77,  1.9 ],\n",
       "       [13.74,  1.67],\n",
       "       [13.56,  1.73],\n",
       "       [14.22,  1.7 ],\n",
       "       [13.29,  1.97],\n",
       "       [13.72,  1.43],\n",
       "       [12.37,  0.94],\n",
       "       [12.33,  1.1 ],\n",
       "       [12.64,  1.36],\n",
       "       [13.67,  1.25],\n",
       "       [12.37,  1.13],\n",
       "       [12.17,  1.45],\n",
       "       [12.37,  1.21],\n",
       "       [13.11,  1.01],\n",
       "       [12.37,  1.17],\n",
       "       [13.34,  0.94],\n",
       "       [12.21,  1.19],\n",
       "       [12.29,  1.61],\n",
       "       [13.86,  1.51],\n",
       "       [13.49,  1.66],\n",
       "       [12.99,  1.67],\n",
       "       [11.96,  1.09],\n",
       "       [11.66,  1.88],\n",
       "       [13.03,  0.9 ],\n",
       "       [11.84,  2.89],\n",
       "       [12.33,  0.99],\n",
       "       [12.7 ,  3.87],\n",
       "       [12.  ,  0.92],\n",
       "       [12.72,  1.81],\n",
       "       [12.08,  1.13],\n",
       "       [13.05,  3.86],\n",
       "       [11.84,  0.89],\n",
       "       [12.67,  0.98],\n",
       "       [12.16,  1.61],\n",
       "       [11.65,  1.67],\n",
       "       [11.64,  2.06],\n",
       "       [12.08,  1.33],\n",
       "       [12.08,  1.83],\n",
       "       [12.  ,  1.51],\n",
       "       [12.69,  1.53],\n",
       "       [12.29,  2.83],\n",
       "       [11.62,  1.99],\n",
       "       [12.47,  1.52],\n",
       "       [11.81,  2.12],\n",
       "       [12.29,  1.41],\n",
       "       [12.37,  1.07],\n",
       "       [12.29,  3.17],\n",
       "       [12.08,  2.08],\n",
       "       [12.6 ,  1.34],\n",
       "       [12.34,  2.45],\n",
       "       [11.82,  1.72],\n",
       "       [12.51,  1.73],\n",
       "       [12.42,  2.55],\n",
       "       [12.25,  1.73],\n",
       "       [12.72,  1.75],\n",
       "       [12.22,  1.29],\n",
       "       [11.61,  1.35],\n",
       "       [11.46,  3.74],\n",
       "       [12.52,  2.43],\n",
       "       [11.76,  2.68],\n",
       "       [11.41,  0.74],\n",
       "       [12.08,  1.39],\n",
       "       [11.03,  1.51],\n",
       "       [11.82,  1.47],\n",
       "       [12.42,  1.61],\n",
       "       [12.77,  3.43],\n",
       "       [12.  ,  3.43],\n",
       "       [11.45,  2.4 ],\n",
       "       [11.56,  2.05],\n",
       "       [12.42,  4.43],\n",
       "       [13.05,  5.8 ],\n",
       "       [11.87,  4.31],\n",
       "       [12.07,  2.16],\n",
       "       [12.43,  1.53],\n",
       "       [11.79,  2.13],\n",
       "       [12.37,  1.63],\n",
       "       [12.04,  4.3 ],\n",
       "       [12.86,  1.35],\n",
       "       [12.88,  2.99],\n",
       "       [12.81,  2.31],\n",
       "       [12.7 ,  3.55],\n",
       "       [12.51,  1.24],\n",
       "       [12.6 ,  2.46],\n",
       "       [12.25,  4.72],\n",
       "       [12.53,  5.51],\n",
       "       [13.49,  3.59],\n",
       "       [12.84,  2.96],\n",
       "       [12.93,  2.81],\n",
       "       [13.36,  2.56],\n",
       "       [13.52,  3.17],\n",
       "       [13.62,  4.95],\n",
       "       [12.25,  3.88],\n",
       "       [13.16,  3.57],\n",
       "       [13.88,  5.04],\n",
       "       [12.87,  4.61],\n",
       "       [13.32,  3.24],\n",
       "       [13.08,  3.9 ],\n",
       "       [13.5 ,  3.12],\n",
       "       [12.79,  2.67],\n",
       "       [13.11,  1.9 ],\n",
       "       [13.23,  3.3 ],\n",
       "       [12.58,  1.29],\n",
       "       [13.17,  5.19],\n",
       "       [13.84,  4.12],\n",
       "       [12.45,  3.03],\n",
       "       [14.34,  1.68],\n",
       "       [13.48,  1.67],\n",
       "       [12.36,  3.83],\n",
       "       [13.69,  3.26],\n",
       "       [12.85,  3.27],\n",
       "       [12.96,  3.45],\n",
       "       [13.78,  2.76],\n",
       "       [13.73,  4.36],\n",
       "       [13.45,  3.7 ],\n",
       "       [12.82,  3.37],\n",
       "       [13.58,  2.58],\n",
       "       [13.4 ,  4.6 ],\n",
       "       [12.2 ,  3.03],\n",
       "       [12.77,  2.39],\n",
       "       [14.16,  2.51],\n",
       "       [13.71,  5.65],\n",
       "       [13.4 ,  3.91],\n",
       "       [13.27,  4.28],\n",
       "       [13.17,  2.59],\n",
       "       [14.13,  4.1 ]])"
      ]
     },
     "execution_count": 21,
     "metadata": {},
     "output_type": "execute_result"
    }
   ],
   "source": [
    "wine.data[:, :2]"
   ]
  },
  {
   "cell_type": "code",
   "execution_count": 17,
   "id": "ae05f342",
   "metadata": {},
   "outputs": [],
   "source": [
    "class WineNet(torch.nn.Module):\n",
    "    def __init__(self, n_hidden_neurons):\n",
    "        super(WineNet, self).__init__()\n",
    "        \n",
    "        self.fc1 = torch.nn.Linear(2, n_hidden_neurons)\n",
    "        self.activ1 = torch.nn.Sigmoid()\n",
    "#         self.fc2 = torch.nn.Linear(n_hidden_neurons, n_hidden_neurons)\n",
    "#         self.activ2 = torch.nn.Sigmoid()\n",
    "        self.fc3 = torch.nn.Linear(n_hidden_neurons, 3)\n",
    "        self.sm = torch.nn.Softmax(dim=1)\n",
    "        \n",
    "#         dim=1 - применяем софтмакс построчно\n",
    "        \n",
    "    def forward(self, x):\n",
    "        x = self.fc1(x)\n",
    "        x = self.activ1(x)\n",
    "#         x = self.fc2(x)\n",
    "#         x = self.activ2(x)\n",
    "        x = self.fc3(x)\n",
    "        return x\n",
    "\n",
    "    def inference(self, x):\n",
    "        x = self.forward(x)\n",
    "        x = self.sm(x)\n",
    "        return x\n",
    "    \n",
    "wine_net = WineNet(5)"
   ]
  },
  {
   "cell_type": "code",
   "execution_count": 18,
   "id": "47d5a10d",
   "metadata": {},
   "outputs": [],
   "source": [
    "# используем выходы сети, не пропущенные через софтмакс\n",
    "loss = torch.nn.CrossEntropyLoss()\n",
    "\n",
    "optimizer = torch.optim.Adam(wine_net.parameters(), lr=1.0e-3)"
   ]
  },
  {
   "cell_type": "code",
   "execution_count": 8,
   "id": "3f0e6b31",
   "metadata": {},
   "outputs": [
    {
     "data": {
      "text/plain": [
       "array([2, 0, 1, 4, 3])"
      ]
     },
     "execution_count": 8,
     "metadata": {},
     "output_type": "execute_result"
    }
   ],
   "source": [
    "np.random.permutation(5)"
   ]
  },
  {
   "cell_type": "code",
   "execution_count": 19,
   "id": "2b69990c",
   "metadata": {
    "scrolled": true
   },
   "outputs": [
    {
     "name": "stdout",
     "output_type": "stream",
     "text": [
      "tensor(0.2407)\n",
      "tensor(0.5000)\n",
      "tensor(0.4630)\n",
      "tensor(0.4815)\n",
      "tensor(0.6296)\n",
      "tensor(0.7407)\n",
      "tensor(0.6852)\n",
      "tensor(0.7593)\n",
      "tensor(0.7593)\n",
      "tensor(0.7593)\n",
      "tensor(0.7963)\n",
      "tensor(0.7963)\n",
      "tensor(0.8148)\n",
      "tensor(0.8148)\n",
      "tensor(0.8333)\n",
      "tensor(0.8333)\n",
      "tensor(0.8519)\n",
      "tensor(0.8519)\n",
      "tensor(0.8519)\n",
      "tensor(0.8519)\n"
     ]
    },
    {
     "ename": "KeyboardInterrupt",
     "evalue": "",
     "output_type": "error",
     "traceback": [
      "\u001b[1;31m---------------------------------------------------------------------------\u001b[0m",
      "\u001b[1;31mKeyboardInterrupt\u001b[0m                         Traceback (most recent call last)",
      "\u001b[1;32m~\\AppData\\Local\\Temp/ipykernel_12692/3171799864.py\u001b[0m in \u001b[0;36m<module>\u001b[1;34m\u001b[0m\n\u001b[0;32m     11\u001b[0m         \u001b[0my_batch\u001b[0m \u001b[1;33m=\u001b[0m \u001b[0my_train\u001b[0m\u001b[1;33m[\u001b[0m\u001b[0mbatch_indexes\u001b[0m\u001b[1;33m]\u001b[0m\u001b[1;33m\u001b[0m\u001b[1;33m\u001b[0m\u001b[0m\n\u001b[0;32m     12\u001b[0m \u001b[1;33m\u001b[0m\u001b[0m\n\u001b[1;32m---> 13\u001b[1;33m         \u001b[0mpreds\u001b[0m \u001b[1;33m=\u001b[0m \u001b[0mwine_net\u001b[0m\u001b[1;33m.\u001b[0m\u001b[0mforward\u001b[0m\u001b[1;33m(\u001b[0m\u001b[0mx_batch\u001b[0m\u001b[1;33m)\u001b[0m\u001b[1;33m\u001b[0m\u001b[1;33m\u001b[0m\u001b[0m\n\u001b[0m\u001b[0;32m     14\u001b[0m \u001b[1;33m\u001b[0m\u001b[0m\n\u001b[0;32m     15\u001b[0m         \u001b[0mloss_value\u001b[0m \u001b[1;33m=\u001b[0m \u001b[0mloss\u001b[0m\u001b[1;33m(\u001b[0m\u001b[0mpreds\u001b[0m\u001b[1;33m,\u001b[0m \u001b[0my_batch\u001b[0m\u001b[1;33m)\u001b[0m\u001b[1;33m\u001b[0m\u001b[1;33m\u001b[0m\u001b[0m\n",
      "\u001b[1;32m~\\AppData\\Local\\Temp/ipykernel_12692/4178182841.py\u001b[0m in \u001b[0;36mforward\u001b[1;34m(self, x)\u001b[0m\n\u001b[0;32m     17\u001b[0m \u001b[1;31m#         x = self.fc2(x)\u001b[0m\u001b[1;33m\u001b[0m\u001b[1;33m\u001b[0m\u001b[0m\n\u001b[0;32m     18\u001b[0m \u001b[1;31m#         x = self.activ2(x)\u001b[0m\u001b[1;33m\u001b[0m\u001b[1;33m\u001b[0m\u001b[0m\n\u001b[1;32m---> 19\u001b[1;33m         \u001b[0mx\u001b[0m \u001b[1;33m=\u001b[0m \u001b[0mself\u001b[0m\u001b[1;33m.\u001b[0m\u001b[0mfc3\u001b[0m\u001b[1;33m(\u001b[0m\u001b[0mx\u001b[0m\u001b[1;33m)\u001b[0m\u001b[1;33m\u001b[0m\u001b[1;33m\u001b[0m\u001b[0m\n\u001b[0m\u001b[0;32m     20\u001b[0m         \u001b[1;32mreturn\u001b[0m \u001b[0mx\u001b[0m\u001b[1;33m\u001b[0m\u001b[1;33m\u001b[0m\u001b[0m\n\u001b[0;32m     21\u001b[0m \u001b[1;33m\u001b[0m\u001b[0m\n",
      "\u001b[1;32m~\\anaconda3\\lib\\site-packages\\torch\\nn\\modules\\module.py\u001b[0m in \u001b[0;36m_call_impl\u001b[1;34m(self, *input, **kwargs)\u001b[0m\n\u001b[0;32m   1192\u001b[0m         if not (self._backward_hooks or self._forward_hooks or self._forward_pre_hooks or _global_backward_hooks\n\u001b[0;32m   1193\u001b[0m                 or _global_forward_hooks or _global_forward_pre_hooks):\n\u001b[1;32m-> 1194\u001b[1;33m             \u001b[1;32mreturn\u001b[0m \u001b[0mforward_call\u001b[0m\u001b[1;33m(\u001b[0m\u001b[1;33m*\u001b[0m\u001b[0minput\u001b[0m\u001b[1;33m,\u001b[0m \u001b[1;33m**\u001b[0m\u001b[0mkwargs\u001b[0m\u001b[1;33m)\u001b[0m\u001b[1;33m\u001b[0m\u001b[1;33m\u001b[0m\u001b[0m\n\u001b[0m\u001b[0;32m   1195\u001b[0m         \u001b[1;31m# Do not call functions when jit is used\u001b[0m\u001b[1;33m\u001b[0m\u001b[1;33m\u001b[0m\u001b[0m\n\u001b[0;32m   1196\u001b[0m         \u001b[0mfull_backward_hooks\u001b[0m\u001b[1;33m,\u001b[0m \u001b[0mnon_full_backward_hooks\u001b[0m \u001b[1;33m=\u001b[0m \u001b[1;33m[\u001b[0m\u001b[1;33m]\u001b[0m\u001b[1;33m,\u001b[0m \u001b[1;33m[\u001b[0m\u001b[1;33m]\u001b[0m\u001b[1;33m\u001b[0m\u001b[1;33m\u001b[0m\u001b[0m\n",
      "\u001b[1;32m~\\anaconda3\\lib\\site-packages\\torch\\nn\\modules\\linear.py\u001b[0m in \u001b[0;36mforward\u001b[1;34m(self, input)\u001b[0m\n\u001b[0;32m    112\u001b[0m \u001b[1;33m\u001b[0m\u001b[0m\n\u001b[0;32m    113\u001b[0m     \u001b[1;32mdef\u001b[0m \u001b[0mforward\u001b[0m\u001b[1;33m(\u001b[0m\u001b[0mself\u001b[0m\u001b[1;33m,\u001b[0m \u001b[0minput\u001b[0m\u001b[1;33m:\u001b[0m \u001b[0mTensor\u001b[0m\u001b[1;33m)\u001b[0m \u001b[1;33m->\u001b[0m \u001b[0mTensor\u001b[0m\u001b[1;33m:\u001b[0m\u001b[1;33m\u001b[0m\u001b[1;33m\u001b[0m\u001b[0m\n\u001b[1;32m--> 114\u001b[1;33m         \u001b[1;32mreturn\u001b[0m \u001b[0mF\u001b[0m\u001b[1;33m.\u001b[0m\u001b[0mlinear\u001b[0m\u001b[1;33m(\u001b[0m\u001b[0minput\u001b[0m\u001b[1;33m,\u001b[0m \u001b[0mself\u001b[0m\u001b[1;33m.\u001b[0m\u001b[0mweight\u001b[0m\u001b[1;33m,\u001b[0m \u001b[0mself\u001b[0m\u001b[1;33m.\u001b[0m\u001b[0mbias\u001b[0m\u001b[1;33m)\u001b[0m\u001b[1;33m\u001b[0m\u001b[1;33m\u001b[0m\u001b[0m\n\u001b[0m\u001b[0;32m    115\u001b[0m \u001b[1;33m\u001b[0m\u001b[0m\n\u001b[0;32m    116\u001b[0m     \u001b[1;32mdef\u001b[0m \u001b[0mextra_repr\u001b[0m\u001b[1;33m(\u001b[0m\u001b[0mself\u001b[0m\u001b[1;33m)\u001b[0m \u001b[1;33m->\u001b[0m \u001b[0mstr\u001b[0m\u001b[1;33m:\u001b[0m\u001b[1;33m\u001b[0m\u001b[1;33m\u001b[0m\u001b[0m\n",
      "\u001b[1;31mKeyboardInterrupt\u001b[0m: "
     ]
    }
   ],
   "source": [
    "batch_size = 10\n",
    "\n",
    "for epoch in range(5000):\n",
    "    order = np.random.permutation(len(X_train))\n",
    "    for start_index in range(0, len(X_train), batch_size):\n",
    "        optimizer.zero_grad()\n",
    "        \n",
    "        batch_indexes = order[start_index:start_index+batch_size]\n",
    "        \n",
    "        x_batch = X_train[batch_indexes]\n",
    "        y_batch = y_train[batch_indexes]\n",
    "        \n",
    "        preds = wine_net.forward(x_batch) \n",
    "        \n",
    "        loss_value = loss(preds, y_batch)\n",
    "        loss_value.backward()\n",
    "        \n",
    "        optimizer.step()\n",
    "        \n",
    "    if epoch % 100 == 0:\n",
    "        test_preds = wine_net.forward(X_test)\n",
    "        \n",
    "#         max outcome\n",
    "        test_preds = test_preds.argmax(dim=1)\n",
    "        print((test_preds == y_test).float().mean())"
   ]
  },
  {
   "cell_type": "code",
   "execution_count": 20,
   "id": "26854e8a",
   "metadata": {},
   "outputs": [
    {
     "data": {
      "image/png": "[encoded data removed]",
      "text/plain": [
       "<Figure size 720x576 with 1 Axes>"
      ]
     },
     "metadata": {
      "needs_background": "light"
     },
     "output_type": "display_data"
    }
   ],
   "source": [
    "plt.rcParams['figure.figsize'] = (10, 8)\n",
    "\n",
    "n_classes = 3\n",
    "plot_colors = ['g', 'orange', 'black']\n",
    "plot_step = 0.02\n",
    "\n",
    "x_min, x_max = X_train[:, 0].min() - 1, X_train[:, 0].max() + 1\n",
    "y_min, y_max = X_train[:, 1].min() - 1, X_train[:, 1].max() + 1\n",
    "\n",
    "xx, yy =  torch.meshgrid(torch.arange(x_min, x_max, plot_step),\n",
    "                         torch.arange(y_min, y_max, plot_step))\n",
    "\n",
    "preds = wine_net.inference(\n",
    "    torch.cat([xx.reshape(-1, 1), yy.reshape(-1, 1)], dim=1))\n",
    "\n",
    "preds_class = preds.data.numpy().argmax(axis=1)\n",
    "preds_class = preds_class.reshape(xx.shape)\n",
    "plt.contourf(xx, yy, preds_class, cmap='Accent')\n",
    "\n",
    "for i, color in zip(range(n_classes), plot_colors):\n",
    "    indexes = np.where(y_train == i)\n",
    "    plt.scatter(X_train[indexes, 0], \n",
    "                X_train[indexes, 1], \n",
    "                c=color, \n",
    "                label=wine.target_names[i],\n",
    "                cmap='Accent')\n",
    "    plt.xlabel(wine.feature_names[0])\n",
    "    plt.ylabel(wine.feature_names[1])\n",
    "    plt.legend()"
   ]
  },
  {
   "cell_type": "code",
   "execution_count": null,
   "id": "d04f2e6d",
   "metadata": {},
   "outputs": [],
   "source": []
  }
 ],
 "metadata": {
  "kernelspec": {
   "display_name": "Python 3 (ipykernel)",
   "language": "python",
   "name": "python3"
  },
  "language_info": {
   "codemirror_mode": {
    "name": "ipython",
    "version": 3
   },
   "file_extension": ".py",
   "mimetype": "text/x-python",
   "name": "python",
   "nbconvert_exporter": "python",
   "pygments_lexer": "ipython3",
   "version": "3.9.7"
  }
 },
 "nbformat": 4,
 "nbformat_minor": 5
}
