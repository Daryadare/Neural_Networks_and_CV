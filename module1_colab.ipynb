{
  "nbformat": 4,
  "nbformat_minor": 0,
  "metadata": {
    "colab": {
      "provenance": []
    },
    "kernelspec": {
      "name": "python3",
      "display_name": "Python 3"
    },
    "language_info": {
      "name": "python"
    },
    "accelerator": "GPU",
    "gpuClass": "standard"
  },
  "cells": [
    {
      "cell_type": "code",
      "source": [
        "import torch"
      ],
      "metadata": {
        "id": "bHBrDjuxc-Gx"
      },
      "execution_count": 2,
      "outputs": []
    },
    {
      "cell_type": "code",
      "source": [
        "# ckeck if there is gpu on computer\n",
        "torch.cuda.is_available()"
      ],
      "metadata": {
        "colab": {
          "base_uri": "https://localhost:8080/"
        },
        "id": "D_UK-TDDdFi7",
        "outputId": "a911ba8e-f0b9-41d0-a305-4da030990bb5"
      },
      "execution_count": 3,
      "outputs": [
        {
          "output_type": "execute_result",
          "data": {
            "text/plain": [
              "True"
            ]
          },
          "metadata": {},
          "execution_count": 3
        }
      ]
    },
    {
      "cell_type": "code",
      "source": [
        "torch.device('cuda:0')"
      ],
      "metadata": {
        "colab": {
          "base_uri": "https://localhost:8080/"
        },
        "id": "u4g2gz-CdI-1",
        "outputId": "d49b4aaf-47e6-4d5f-997e-6e0b139fc8b6"
      },
      "execution_count": 4,
      "outputs": [
        {
          "output_type": "execute_result",
          "data": {
            "text/plain": [
              "device(type='cuda', index=0)"
            ]
          },
          "metadata": {},
          "execution_count": 4
        }
      ]
    },
    {
      "cell_type": "code",
      "source": [
        "# from videocard to cpu\n",
        "torch.device('cpu')"
      ],
      "metadata": {
        "colab": {
          "base_uri": "https://localhost:8080/"
        },
        "id": "vGwLVgEHeQfK",
        "outputId": "80087bbf-79f9-47df-9bdb-c91ceffcd556"
      },
      "execution_count": 5,
      "outputs": [
        {
          "output_type": "execute_result",
          "data": {
            "text/plain": [
              "device(type='cpu')"
            ]
          },
          "metadata": {},
          "execution_count": 5
        }
      ]
    },
    {
      "cell_type": "code",
      "source": [
        "# tranfer tenser to currently used platform\n",
        "device = torch.device('cuda:0' if torch.cuda.is_available() else 'cpu')\n",
        "device"
      ],
      "metadata": {
        "colab": {
          "base_uri": "https://localhost:8080/"
        },
        "id": "TYLMqlyCeaQm",
        "outputId": "25dfd4c8-0814-4ecc-d12a-d4467fcd3003"
      },
      "execution_count": 6,
      "outputs": [
        {
          "output_type": "execute_result",
          "data": {
            "text/plain": [
              "device(type='cuda', index=0)"
            ]
          },
          "metadata": {},
          "execution_count": 6
        }
      ]
    },
    {
      "cell_type": "code",
      "source": [
        "# x = torch.rand([2,3])\n",
        "x = torch.rand([2000,3000])\n",
        "x"
      ],
      "metadata": {
        "colab": {
          "base_uri": "https://localhost:8080/"
        },
        "id": "Vsj_DbX8e4m8",
        "outputId": "333bcb50-0c49-41d7-d269-72c5a4b51b24"
      },
      "execution_count": 12,
      "outputs": [
        {
          "output_type": "execute_result",
          "data": {
            "text/plain": [
              "tensor([[0.2543, 0.9303, 0.9709,  ..., 0.0190, 0.5240, 0.1724],\n",
              "        [0.8167, 0.2829, 0.2817,  ..., 0.7064, 0.8400, 0.2675],\n",
              "        [0.8078, 0.8967, 0.5362,  ..., 0.8288, 0.2152, 0.3054],\n",
              "        ...,\n",
              "        [0.4054, 0.1437, 0.7169,  ..., 0.9334, 0.1818, 0.5135],\n",
              "        [0.7188, 0.8832, 0.3033,  ..., 0.6051, 0.2303, 0.6035],\n",
              "        [0.5011, 0.6452, 0.2714,  ..., 0.5926, 0.3474, 0.2146]])"
            ]
          },
          "metadata": {},
          "execution_count": 12
        }
      ]
    },
    {
      "cell_type": "code",
      "source": [
        "x_cuda = x.to(device)\n",
        "x_cuda"
      ],
      "metadata": {
        "colab": {
          "base_uri": "https://localhost:8080/"
        },
        "id": "PLYDCysRenC_",
        "outputId": "d960a633-d6bd-41fc-91da-adbd77b8672e"
      },
      "execution_count": 13,
      "outputs": [
        {
          "output_type": "execute_result",
          "data": {
            "text/plain": [
              "tensor([[0.2543, 0.9303, 0.9709,  ..., 0.0190, 0.5240, 0.1724],\n",
              "        [0.8167, 0.2829, 0.2817,  ..., 0.7064, 0.8400, 0.2675],\n",
              "        [0.8078, 0.8967, 0.5362,  ..., 0.8288, 0.2152, 0.3054],\n",
              "        ...,\n",
              "        [0.4054, 0.1437, 0.7169,  ..., 0.9334, 0.1818, 0.5135],\n",
              "        [0.7188, 0.8832, 0.3033,  ..., 0.6051, 0.2303, 0.6035],\n",
              "        [0.5011, 0.6452, 0.2714,  ..., 0.5926, 0.3474, 0.2146]],\n",
              "       device='cuda:0')"
            ]
          },
          "metadata": {},
          "execution_count": 13
        }
      ]
    },
    {
      "cell_type": "code",
      "source": [
        "%time y = (x - x + x * 10.0) ** 2"
      ],
      "metadata": {
        "colab": {
          "base_uri": "https://localhost:8080/"
        },
        "id": "8l6PFwKie-Ef",
        "outputId": "1c53dfcb-ea86-4e58-b3d7-a048e9651b82"
      },
      "execution_count": 14,
      "outputs": [
        {
          "output_type": "stream",
          "name": "stdout",
          "text": [
            "CPU times: user 17.9 ms, sys: 28.4 ms, total: 46.3 ms\n",
            "Wall time: 48.3 ms\n"
          ]
        }
      ]
    },
    {
      "cell_type": "code",
      "source": [
        "%time y_cuda = (x_cuda - x_cuda + x_cuda * 10.0) ** 2"
      ],
      "metadata": {
        "colab": {
          "base_uri": "https://localhost:8080/"
        },
        "id": "LuBHjChOfGKV",
        "outputId": "f86fde43-e0e5-472e-8efb-706e2dc5b599"
      },
      "execution_count": 15,
      "outputs": [
        {
          "output_type": "stream",
          "name": "stdout",
          "text": [
            "CPU times: user 1.64 ms, sys: 203 µs, total: 1.84 ms\n",
            "Wall time: 1.75 ms\n"
          ]
        }
      ]
    },
    {
      "cell_type": "code",
      "source": [],
      "metadata": {
        "id": "wyNMfmJHfW2o"
      },
      "execution_count": null,
      "outputs": []
    }
  ]
}