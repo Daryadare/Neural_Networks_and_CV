{
  "nbformat": 4,
  "nbformat_minor": 0,
  "metadata": {
    "colab": {
      "provenance": []
    },
    "kernelspec": {
      "name": "python3",
      "display_name": "Python 3"
    },
    "language_info": {
      "name": "python"
    }
  },
  "cells": [
    {
      "cell_type": "code",
      "execution_count": 45,
      "metadata": {
        "id": "qKBUtDLTp3EC"
      },
      "outputs": [],
      "source": [
        "import torch\n",
        "import torch.nn.functional as F\n",
        "import numpy as np\n",
        "from abc import ABC, abstractmethod"
      ]
    },
    {
      "cell_type": "code",
      "source": [],
      "metadata": {
        "id": "oVWVa-UdQ3Qj"
      },
      "execution_count": null,
      "outputs": []
    },
    {
      "cell_type": "markdown",
      "source": [
        "Добавление вокруг каждого изображения отступ из одного нуля с каждой стороны\n"
      ],
      "metadata": {
        "id": "Vd4WhS5PQ4Dd"
      }
    },
    {
      "cell_type": "code",
      "source": [
        "input_images = torch.tensor(\n",
        "      [[[[0,  1,  2],\n",
        "         [3,  4,  5],\n",
        "         [6,  7,  8]],\n",
        "\n",
        "        [[9, 10, 11],\n",
        "         [12, 13, 14],\n",
        "         [15, 16, 17]],\n",
        "\n",
        "        [[18, 19, 20],\n",
        "         [21, 22, 23],\n",
        "         [24, 25, 26]]],\n",
        "\n",
        "\n",
        "       [[[27, 28, 29],\n",
        "         [30, 31, 32],\n",
        "         [33, 34, 35]],\n",
        "\n",
        "        [[36, 37, 38],\n",
        "         [39, 40, 41],\n",
        "         [42, 43, 44]],\n",
        "\n",
        "        [[45, 46, 47],\n",
        "         [48, 49, 50],\n",
        "         [51, 52, 53]]]], dtype=torch.float32)\n",
        "\n",
        "\n",
        "def get_padding2d(input_images):\n",
        "  padded_images = F.pad(input=input_images, pad=(1, 1, 1, 1), \n",
        "                          mode='constant', value=0)\n",
        "  return padded_images\n",
        "\n",
        "\n",
        "correct_padded_images = torch.tensor(\n",
        "       [[[[0.,  0.,  0.,  0.,  0.],\n",
        "          [0.,  0.,  1.,  2.,  0.],\n",
        "          [0.,  3.,  4.,  5.,  0.],\n",
        "          [0.,  6.,  7.,  8.,  0.],\n",
        "          [0.,  0.,  0.,  0.,  0.]],\n",
        "\n",
        "         [[0.,  0.,  0.,  0.,  0.],\n",
        "          [0.,  9., 10., 11.,  0.],\n",
        "          [0., 12., 13., 14.,  0.],\n",
        "          [0., 15., 16., 17.,  0.],\n",
        "          [0.,  0.,  0.,  0.,  0.]],\n",
        "\n",
        "         [[0.,  0.,  0.,  0.,  0.],\n",
        "          [0., 18., 19., 20.,  0.],\n",
        "          [0., 21., 22., 23.,  0.],\n",
        "          [0., 24., 25., 26.,  0.],\n",
        "          [0.,  0.,  0.,  0.,  0.]]],\n",
        "\n",
        "\n",
        "        [[[0.,  0.,  0.,  0.,  0.],\n",
        "          [0., 27., 28., 29.,  0.],\n",
        "          [0., 30., 31., 32.,  0.],\n",
        "          [0., 33., 34., 35.,  0.],\n",
        "          [0.,  0.,  0.,  0.,  0.]],\n",
        "\n",
        "         [[0.,  0.,  0.,  0.,  0.],\n",
        "          [0., 36., 37., 38.,  0.],\n",
        "          [0., 39., 40., 41.,  0.],\n",
        "          [0., 42., 43., 44.,  0.],\n",
        "          [0.,  0.,  0.,  0.,  0.]],\n",
        "\n",
        "         [[0.,  0.,  0.,  0.,  0.],\n",
        "          [0., 45., 46., 47.,  0.],\n",
        "          [0., 48., 49., 50.,  0.],\n",
        "          [0., 51., 52., 53.,  0.],\n",
        "          [0.,  0.,  0.,  0.,  0.]]]])\n",
        "\n",
        "print(torch.allclose(get_padding2d(input_images), correct_padded_images))"
      ],
      "metadata": {
        "colab": {
          "base_uri": "https://localhost:8080/"
        },
        "id": "PZd23umAp8mt",
        "outputId": "a2c96bd4-3f3e-4d62-a668-16b364d7f1f3"
      },
      "execution_count": null,
      "outputs": [
        {
          "output_type": "stream",
          "name": "stdout",
          "text": [
            "True\n"
          ]
        }
      ]
    },
    {
      "cell_type": "code",
      "source": [],
      "metadata": {
        "id": "53r-0rDmQ2B2"
      },
      "execution_count": null,
      "outputs": []
    },
    {
      "cell_type": "markdown",
      "source": [
        "Вывод формулы размерности выхода сверточного слоя, зная параметры входа и ядра"
      ],
      "metadata": {
        "id": "71G4zBmbRAkI"
      }
    },
    {
      "cell_type": "code",
      "source": [
        "def calc_out_shape(input_matrix_shape, out_channels, kernel_size, stride, padding):\n",
        "    w_h_out = np.fix((((input_matrix_shape[2] - kernel_size \n",
        "                                 + 2*padding)//stride)+1))\n",
        "    \n",
        "    out_shape = np.concatenate([np.expand_dims(i,axis=0) for i in \n",
        "                                [input_matrix_shape[0], out_channels, \n",
        "                                 w_h_out, w_h_out]])\n",
        "    return out_shape\n",
        "\n",
        "print(np.array_equal(\n",
        "    calc_out_shape(input_matrix_shape=[2, 3, 10, 10],\n",
        "                   out_channels=10,\n",
        "                   kernel_size=3,\n",
        "                   stride=1,\n",
        "                   padding=0),\n",
        "    [2, 10, 8, 8]))\n",
        "\n",
        "print(np.array_equal(\n",
        "    calc_out_shape(input_matrix_shape=[2, 3, 5, 5],\n",
        "                   out_channels=3,\n",
        "                   kernel_size=3,\n",
        "                   stride=1,\n",
        "                   padding=1),\n",
        "    [2, 3, 5, 5]))\n",
        "\n",
        "print(np.array_equal(\n",
        "    calc_out_shape(input_matrix_shape=[2, 3, 10, 10],\n",
        "                   out_channels=5,\n",
        "                   kernel_size=3,\n",
        "                   stride=1,\n",
        "                   padding=1),\n",
        "    [2, 5, 10, 10]))\n",
        "\n",
        "print(np.array_equal(\n",
        "    calc_out_shape(input_matrix_shape=[2, 3, 5, 5],\n",
        "                   out_channels=5,\n",
        "                   kernel_size=3,\n",
        "                   stride=1,\n",
        "                   padding=1),\n",
        "    [2, 5, 5, 5]))\n",
        "\n",
        "print(np.array_equal(\n",
        "    calc_out_shape(input_matrix_shape=[2, 3, 8, 8],\n",
        "                   out_channels=5,\n",
        "                   kernel_size=3,\n",
        "                   stride=1,\n",
        "                   padding=2),\n",
        "    [2, 5, 10, 10]))\n",
        "\n",
        "print(np.array_equal(\n",
        "    calc_out_shape(input_matrix_shape=[4, 4, 6, 6],\n",
        "                   out_channels=10,\n",
        "                   kernel_size=3,\n",
        "                   stride=1,\n",
        "                   padding=2),\n",
        "    [4, 10, 8, 8]))"
      ],
      "metadata": {
        "id": "pDoPTQSBp967",
        "colab": {
          "base_uri": "https://localhost:8080/"
        },
        "outputId": "bc69aa60-b6ea-43fe-9020-2afb0303e5ae"
      },
      "execution_count": 44,
      "outputs": [
        {
          "output_type": "stream",
          "name": "stdout",
          "text": [
            "True\n",
            "True\n",
            "True\n",
            "True\n",
            "True\n",
            "True\n"
          ]
        }
      ]
    },
    {
      "cell_type": "code",
      "source": [],
      "metadata": {
        "id": "0yE794iNp99x"
      },
      "execution_count": null,
      "outputs": []
    },
    {
      "cell_type": "markdown",
      "source": [
        "Код для изучения"
      ],
      "metadata": {
        "id": "HdyGpbMeRE-j"
      }
    },
    {
      "cell_type": "code",
      "source": [
        "# абстрактный класс для сверточного слоя\n",
        "class ABCConv2d(ABC):\n",
        "    def __init__(self, in_channels, out_channels, kernel_size, stride):\n",
        "        self.in_channels = in_channels\n",
        "        self.out_channels = out_channels\n",
        "        self.kernel_size = kernel_size\n",
        "        self.stride = stride\n",
        "\n",
        "    def set_kernel(self, kernel):\n",
        "        self.kernel = kernel\n",
        "\n",
        "    @abstractmethod\n",
        "    def __call__(self, input_tensor):\n",
        "        pass\n",
        "\n",
        "\n",
        "# класс-обертка над torch.nn.Conv2d для унификации интерфейса\n",
        "class Conv2d(ABCConv2d):\n",
        "    def __init__(self, in_channels, out_channels, kernel_size, stride):\n",
        "        self.conv2d = torch.nn.Conv2d(in_channels, out_channels, kernel_size,\n",
        "                                      stride, padding=0, bias=False)\n",
        "\n",
        "    def set_kernel(self, kernel):\n",
        "        self.conv2d.weight.data = kernel\n",
        "\n",
        "    def __call__(self, input_tensor):\n",
        "        return self.conv2d(input_tensor)\n",
        "\n",
        "\n",
        "# функция, создающая объект класса cls и возвращающая свертку от input_matrix\n",
        "def create_and_call_conv2d_layer(conv2d_layer_class, stride, kernel, input_matrix):\n",
        "    out_channels = kernel.shape[0]\n",
        "    in_channels = kernel.shape[1]\n",
        "    kernel_size = kernel.shape[2]\n",
        "\n",
        "    layer = conv2d_layer_class(in_channels, out_channels, kernel_size, stride)\n",
        "    layer.set_kernel(kernel)\n",
        "\n",
        "    return layer(input_matrix)\n",
        "\n",
        "\n",
        "# Функция, тестирующая класс conv2d_cls.\n",
        "# Возвращает True, если свертка совпадает со сверткой с помощью torch.nn.Conv2d.\n",
        "def test_conv2d_layer(conv2d_layer_class, batch_size=2,\n",
        "                      input_height=4, input_width=4, stride=2):\n",
        "    \n",
        "    kernel = torch.tensor(\n",
        "                      [[[[0., 1, 0],\n",
        "                         [1,  2, 1],\n",
        "                         [0,  1, 0]],\n",
        "\n",
        "                        [[1, 2, 1],\n",
        "                         [0, 3, 3],\n",
        "                         [0, 1, 10]],\n",
        "\n",
        "                        [[10, 11, 12],\n",
        "                         [13, 14, 15],\n",
        "                         [16, 17, 18]]]])\n",
        "\n",
        "    in_channels = kernel.shape[1]\n",
        "\n",
        "    input_tensor = torch.arange(0, batch_size * in_channels *\n",
        "                                input_height * input_width,\n",
        "                                out=torch.FloatTensor()) \\\n",
        "        .reshape(batch_size, in_channels, input_height, input_width)\n",
        "\n",
        "    custom_conv2d_out = create_and_call_conv2d_layer(\n",
        "        conv2d_layer_class, stride, kernel, input_tensor)\n",
        "    \n",
        "    conv2d_out = create_and_call_conv2d_layer(\n",
        "        Conv2d, stride, kernel, input_tensor)\n",
        "\n",
        "    return torch.allclose(custom_conv2d_out, conv2d_out) \\\n",
        "    and (custom_conv2d_out.shape == conv2d_out.shape)\n",
        "\n",
        "print(test_conv2d_layer(Conv2d))"
      ],
      "metadata": {
        "id": "zYERjF5np-Bp",
        "colab": {
          "base_uri": "https://localhost:8080/"
        },
        "outputId": "eac7d4a1-839e-432f-c981-16010c2049ca"
      },
      "execution_count": 46,
      "outputs": [
        {
          "output_type": "stream",
          "name": "stdout",
          "text": [
            "True\n"
          ]
        }
      ]
    },
    {
      "cell_type": "code",
      "source": [],
      "metadata": {
        "id": "0dQt8PiYp-EO"
      },
      "execution_count": null,
      "outputs": []
    },
    {
      "cell_type": "markdown",
      "source": [
        "Реализация сверточного слоя через циклы"
      ],
      "metadata": {
        "id": "KctZdiDAUuAH"
      }
    },
    {
      "cell_type": "code",
      "source": [
        "def calc_out_shape(input_matrix_shape, out_channels, kernel_size, \n",
        "                   stride, padding):\n",
        "  \n",
        "  batch_size, channels_count, input_height, input_width = input_matrix_shape\n",
        "    \n",
        "  output_height = (input_height + 2 * padding - (kernel_size - 1) - 1) // stride + 1\n",
        "    \n",
        "  output_width = (input_width + 2 * padding - (kernel_size - 1) - 1) // stride + 1\n",
        "\n",
        "  return batch_size, out_channels, output_height, output_width\n",
        "\n",
        "\n",
        "class ABCConv2d(ABC):\n",
        "    def __init__(self, in_channels, out_channels, kernel_size, stride):\n",
        "        self.in_channels = in_channels\n",
        "        self.out_channels = out_channels\n",
        "        self.kernel_size = kernel_size\n",
        "        self.stride = stride\n",
        "\n",
        "    def set_kernel(self, kernel):\n",
        "        self.kernel = kernel\n",
        "\n",
        "    @abstractmethod\n",
        "    def __call__(self, input_tensor):\n",
        "        pass\n",
        "\n",
        "\n",
        "class Conv2d(ABCConv2d):\n",
        "    def __init__(self, in_channels, out_channels, kernel_size, stride):\n",
        "        self.conv2d = torch.nn.Conv2d(in_channels, out_channels, kernel_size,\n",
        "                                      stride, padding=0, bias=False)\n",
        "\n",
        "    def set_kernel(self, kernel):\n",
        "        self.conv2d.weight.data = kernel\n",
        "\n",
        "    def __call__(self, input_tensor):\n",
        "        return self.conv2d(input_tensor)\n",
        "\n",
        "\n",
        "def create_and_call_conv2d_layer(conv2d_layer_class, \n",
        "                                 stride, kernel, input_matrix):\n",
        "    out_channels = kernel.shape[0]\n",
        "    in_channels = kernel.shape[1]\n",
        "    kernel_size = kernel.shape[2]\n",
        "\n",
        "    layer = conv2d_layer_class(in_channels, out_channels, kernel_size, stride)\n",
        "    layer.set_kernel(kernel)\n",
        "\n",
        "    return layer(input_matrix)\n",
        "\n",
        "\n",
        "def test_conv2d_layer(conv2d_layer_class, batch_size=2,\n",
        "                      input_height=4, input_width=4, stride=2):\n",
        "    kernel = torch.tensor(\n",
        "                      [[[[0., 1, 0],\n",
        "                         [1,  2, 1],\n",
        "                         [0,  1, 0]],\n",
        "\n",
        "                        [[1, 2, 1],\n",
        "                         [0, 3, 3],\n",
        "                         [0, 1, 10]],\n",
        "\n",
        "                        [[10, 11, 12],\n",
        "                         [13, 14, 15],\n",
        "                         [16, 17, 18]]]])\n",
        "\n",
        "    in_channels = kernel.shape[1]\n",
        "\n",
        "    input_tensor = torch.arange(0, batch_size * in_channels *\n",
        "                                input_height * input_width,\n",
        "                                out=torch.FloatTensor()) \\\n",
        "        .reshape(batch_size, in_channels, input_height, input_width)\n",
        "\n",
        "    custom_conv2d_out = create_and_call_conv2d_layer(\n",
        "        conv2d_layer_class, stride, kernel, input_tensor)\n",
        "    \n",
        "    conv2d_out = create_and_call_conv2d_layer(\n",
        "        Conv2d, stride, kernel, input_tensor)\n",
        "\n",
        "    return torch.allclose(custom_conv2d_out, conv2d_out) \\\n",
        "             and (custom_conv2d_out.shape == conv2d_out.shape)\n",
        "\n",
        "\n",
        "# Сверточный слой через циклы.\n",
        "class Conv2dLoop(ABCConv2d):\n",
        "    def __call__(self, input_tensor):\n",
        "        output_tensor = # Напишите в этом месте вычисление свертки с использованием циклов.\n",
        "        return output_tensor\n",
        "\n",
        "print(test_conv2d_layer(Conv2dLoop))"
      ],
      "metadata": {
        "id": "mAkNCLeZUyc7"
      },
      "execution_count": null,
      "outputs": []
    },
    {
      "cell_type": "code",
      "source": [],
      "metadata": {
        "id": "SzpUjV-MUyq-"
      },
      "execution_count": null,
      "outputs": []
    },
    {
      "cell_type": "code",
      "source": [],
      "metadata": {
        "id": "r5p2x2XfUzhl"
      },
      "execution_count": null,
      "outputs": []
    },
    {
      "cell_type": "code",
      "source": [],
      "metadata": {
        "id": "yH8NPGDrUzYy"
      },
      "execution_count": null,
      "outputs": []
    },
    {
      "cell_type": "code",
      "source": [],
      "metadata": {
        "id": "n0VlTq-AUzRE"
      },
      "execution_count": null,
      "outputs": []
    },
    {
      "cell_type": "code",
      "source": [],
      "metadata": {
        "id": "yfEI4koKUzEZ"
      },
      "execution_count": null,
      "outputs": []
    }
  ]
}